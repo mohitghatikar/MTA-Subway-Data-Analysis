{
 "cells": [
  {
   "cell_type": "markdown",
   "metadata": {
    "collapsed": true
   },
   "source": [
    "  ** NYC MTA Turnstile Usage Analysis **\n",
    "\n",
    "  ** Mohit Ravi **"
   ]
  },
  {
   "cell_type": "code",
   "execution_count": 563,
   "metadata": {
    "collapsed": true
   },
   "outputs": [],
   "source": [
    "# Import Libraries\n",
    "from datetime import datetime\n",
    "import pandas as pd\n",
    "import numpy as np\n",
    "import matplotlib.pyplot as plt\n",
    "%matplotlib inline"
   ]
  },
  {
   "cell_type": "markdown",
   "metadata": {},
   "source": [
    "** Since the majority of the questions are based on 2013 data, the first objective is to prepare data for 2013 **"
   ]
  },
  {
   "cell_type": "code",
   "execution_count": 16,
   "metadata": {
    "collapsed": false
   },
   "outputs": [],
   "source": [
    "## Start date and End Date of 2013 Data\n",
    "start_date = datetime.date(2013,1,5)\n",
    "end_date = datetime.date(2013,12,28)\n",
    "link = \"http://web.mta.info/developers/data/nyct/turnstile/turnstile_\"\n",
    "urls = []\n",
    "\n",
    "# Convert to YYMMDD format\n",
    "def date_format(date):\n",
    "    return date.strftime(\"%y%m%d\")\n",
    "\n",
    "## Take delta of 7 days and store it in a list\n",
    "this_date = start_date\n",
    "while this_date <= end_date:\n",
    "    urls.append(link + date_format(this_date) + \".txt\")\n",
    "    this_date += datetime.timedelta(days=7)"
   ]
  },
  {
   "cell_type": "code",
   "execution_count": 45,
   "metadata": {
    "collapsed": false
   },
   "outputs": [],
   "source": [
    "## Read each 2013 weekly data stored as a dataframe in a list\n",
    "dfs = []\n",
    "# Store each dataframe in the list, It is important to have no headers since we will concatenating all dataframes into \n",
    "# a single large dataframe\n",
    "for f in urls:\n",
    "    dfs.append(pd.read_csv(f, header = None))     "
   ]
  },
  {
   "cell_type": "code",
   "execution_count": 425,
   "metadata": {
    "collapsed": false
   },
   "outputs": [
    {
     "data": {
      "text/html": [
       "<div>\n",
       "<table border=\"1\" class=\"dataframe\">\n",
       "  <thead>\n",
       "    <tr style=\"text-align: right;\">\n",
       "      <th></th>\n",
       "      <th>0</th>\n",
       "      <th>1</th>\n",
       "      <th>2</th>\n",
       "      <th>3</th>\n",
       "      <th>4</th>\n",
       "      <th>5</th>\n",
       "      <th>6</th>\n",
       "      <th>7</th>\n",
       "      <th>8</th>\n",
       "      <th>9</th>\n",
       "      <th>...</th>\n",
       "      <th>33</th>\n",
       "      <th>34</th>\n",
       "      <th>35</th>\n",
       "      <th>36</th>\n",
       "      <th>37</th>\n",
       "      <th>38</th>\n",
       "      <th>39</th>\n",
       "      <th>40</th>\n",
       "      <th>41</th>\n",
       "      <th>42</th>\n",
       "    </tr>\n",
       "  </thead>\n",
       "  <tbody>\n",
       "    <tr>\n",
       "      <th>0</th>\n",
       "      <td>A002</td>\n",
       "      <td>R051</td>\n",
       "      <td>02-00-00</td>\n",
       "      <td>12-29-12</td>\n",
       "      <td>03:00:00</td>\n",
       "      <td>REGULAR</td>\n",
       "      <td>3929425</td>\n",
       "      <td>1354918</td>\n",
       "      <td>12-29-12</td>\n",
       "      <td>07:00:00</td>\n",
       "      <td>...</td>\n",
       "      <td>12-30-12</td>\n",
       "      <td>03:00:00</td>\n",
       "      <td>REGULAR</td>\n",
       "      <td>3930369.0</td>\n",
       "      <td>1355149.0</td>\n",
       "      <td>12-30-12</td>\n",
       "      <td>07:00:00</td>\n",
       "      <td>REGULAR</td>\n",
       "      <td>3930380.0</td>\n",
       "      <td>1355156.0</td>\n",
       "    </tr>\n",
       "    <tr>\n",
       "      <th>1</th>\n",
       "      <td>A002</td>\n",
       "      <td>R051</td>\n",
       "      <td>02-00-00</td>\n",
       "      <td>12-30-12</td>\n",
       "      <td>11:00:00</td>\n",
       "      <td>REGULAR</td>\n",
       "      <td>3930423</td>\n",
       "      <td>1355207</td>\n",
       "      <td>12-30-12</td>\n",
       "      <td>15:00:00</td>\n",
       "      <td>...</td>\n",
       "      <td>12-31-12</td>\n",
       "      <td>11:00:00</td>\n",
       "      <td>REGULAR</td>\n",
       "      <td>3931252.0</td>\n",
       "      <td>1355558.0</td>\n",
       "      <td>12-31-12</td>\n",
       "      <td>15:00:00</td>\n",
       "      <td>REGULAR</td>\n",
       "      <td>3931566.0</td>\n",
       "      <td>1355630.0</td>\n",
       "    </tr>\n",
       "    <tr>\n",
       "      <th>2</th>\n",
       "      <td>A002</td>\n",
       "      <td>R051</td>\n",
       "      <td>02-00-00</td>\n",
       "      <td>12-31-12</td>\n",
       "      <td>19:00:00</td>\n",
       "      <td>REGULAR</td>\n",
       "      <td>3932088</td>\n",
       "      <td>1355684</td>\n",
       "      <td>12-31-12</td>\n",
       "      <td>23:00:00</td>\n",
       "      <td>...</td>\n",
       "      <td>01-01-13</td>\n",
       "      <td>19:00:00</td>\n",
       "      <td>REGULAR</td>\n",
       "      <td>3932662.0</td>\n",
       "      <td>1355849.0</td>\n",
       "      <td>01-01-13</td>\n",
       "      <td>23:00:00</td>\n",
       "      <td>REGULAR</td>\n",
       "      <td>3932782.0</td>\n",
       "      <td>1355864.0</td>\n",
       "    </tr>\n",
       "    <tr>\n",
       "      <th>3</th>\n",
       "      <td>A002</td>\n",
       "      <td>R051</td>\n",
       "      <td>02-00-00</td>\n",
       "      <td>01-02-13</td>\n",
       "      <td>03:00:00</td>\n",
       "      <td>REGULAR</td>\n",
       "      <td>3932806</td>\n",
       "      <td>1355869</td>\n",
       "      <td>01-02-13</td>\n",
       "      <td>07:00:00</td>\n",
       "      <td>...</td>\n",
       "      <td>01-02-13</td>\n",
       "      <td>15:00:00</td>\n",
       "      <td>REGULAR</td>\n",
       "      <td>3933226.0</td>\n",
       "      <td>1356280.0</td>\n",
       "      <td>01-02-13</td>\n",
       "      <td>19:00:00</td>\n",
       "      <td>REGULAR</td>\n",
       "      <td>3934152.0</td>\n",
       "      <td>1356375.0</td>\n",
       "    </tr>\n",
       "    <tr>\n",
       "      <th>4</th>\n",
       "      <td>A002</td>\n",
       "      <td>R051</td>\n",
       "      <td>02-00-00</td>\n",
       "      <td>01-02-13</td>\n",
       "      <td>23:00:00</td>\n",
       "      <td>REGULAR</td>\n",
       "      <td>3934459</td>\n",
       "      <td>1356406</td>\n",
       "      <td>01-03-13</td>\n",
       "      <td>03:00:00</td>\n",
       "      <td>...</td>\n",
       "      <td>01-03-13</td>\n",
       "      <td>11:00:00</td>\n",
       "      <td>REGULAR</td>\n",
       "      <td>3934669.0</td>\n",
       "      <td>1356720.0</td>\n",
       "      <td>01-03-13</td>\n",
       "      <td>15:00:00</td>\n",
       "      <td>REGULAR</td>\n",
       "      <td>3934871.0</td>\n",
       "      <td>1356793.0</td>\n",
       "    </tr>\n",
       "  </tbody>\n",
       "</table>\n",
       "<p>5 rows × 43 columns</p>\n",
       "</div>"
      ],
      "text/plain": [
       "     0     1         2         3         4        5        6        7   \\\n",
       "0  A002  R051  02-00-00  12-29-12  03:00:00  REGULAR  3929425  1354918   \n",
       "1  A002  R051  02-00-00  12-30-12  11:00:00  REGULAR  3930423  1355207   \n",
       "2  A002  R051  02-00-00  12-31-12  19:00:00  REGULAR  3932088  1355684   \n",
       "3  A002  R051  02-00-00  01-02-13  03:00:00  REGULAR  3932806  1355869   \n",
       "4  A002  R051  02-00-00  01-02-13  23:00:00  REGULAR  3934459  1356406   \n",
       "\n",
       "         8         9     ...            33        34       35         36  \\\n",
       "0  12-29-12  07:00:00    ...      12-30-12  03:00:00  REGULAR  3930369.0   \n",
       "1  12-30-12  15:00:00    ...      12-31-12  11:00:00  REGULAR  3931252.0   \n",
       "2  12-31-12  23:00:00    ...      01-01-13  19:00:00  REGULAR  3932662.0   \n",
       "3  01-02-13  07:00:00    ...      01-02-13  15:00:00  REGULAR  3933226.0   \n",
       "4  01-03-13  03:00:00    ...      01-03-13  11:00:00  REGULAR  3934669.0   \n",
       "\n",
       "          37        38        39       40         41         42  \n",
       "0  1355149.0  12-30-12  07:00:00  REGULAR  3930380.0  1355156.0  \n",
       "1  1355558.0  12-31-12  15:00:00  REGULAR  3931566.0  1355630.0  \n",
       "2  1355849.0  01-01-13  23:00:00  REGULAR  3932782.0  1355864.0  \n",
       "3  1356280.0  01-02-13  19:00:00  REGULAR  3934152.0  1356375.0  \n",
       "4  1356720.0  01-03-13  15:00:00  REGULAR  3934871.0  1356793.0  \n",
       "\n",
       "[5 rows x 43 columns]"
      ]
     },
     "execution_count": 425,
     "metadata": {},
     "output_type": "execute_result"
    }
   ],
   "source": [
    "# Sanity Check\n",
    "dfs[0].head()"
   ]
  },
  {
   "cell_type": "code",
   "execution_count": 267,
   "metadata": {
    "collapsed": false
   },
   "outputs": [],
   "source": [
    "# Create a function to convert the 2013 to \"Current\" format as given in the MTA Turnstile Data Dictionary\n",
    "def convert(df):\n",
    "    ind =  df.iloc[:,0:3]\n",
    "    df1a = pd.concat([ind,df.iloc[:,3:8]],axis=1)\n",
    "    df2a = pd.concat([ind,df.iloc[:,8:13]],axis=1)\n",
    "    df3a = pd.concat([ind,df.iloc[:,13:18]],axis=1)\n",
    "    df4a = pd.concat([ind,df.iloc[:,18:23]],axis=1)\n",
    "    df5a = pd.concat([ind,df.iloc[:,23:28]],axis=1)\n",
    "    df6a = pd.concat([ind,df.iloc[:,28:33]],axis=1)\n",
    "    df7a = pd.concat([ind,df.iloc[:,33:38]],axis=1)\n",
    "    df8a = pd.concat([ind,df.iloc[:,38:43]],axis=1)\n",
    "    listofdf = [df1a,df2a,df3a,df4a,df5a,df6a,df7a,df8a]\n",
    "    def addColumns(l):\n",
    "        for i in l:\n",
    "            i.columns = ['C/A','UNIT','SCP','DATE','TIME','DESC','ENTRIES','EXITS']\n",
    "    addColumns(listofdf)\n",
    "    full_df = pd.concat([df1a,df2a,df3a,df4a,df5a,df6a,df7a,df8a],axis=0)\n",
    "    # Sort by C/A, UNIT, SCP, DATE and TIME\n",
    "    return(full_df.sort_values(by = ['C/A','UNIT','SCP','DATE','TIME']))"
   ]
  },
  {
   "cell_type": "code",
   "execution_count": 268,
   "metadata": {
    "collapsed": true
   },
   "outputs": [],
   "source": [
    "## Test function\n",
    "test = convert(dfs[0])"
   ]
  },
  {
   "cell_type": "code",
   "execution_count": 355,
   "metadata": {
    "collapsed": false
   },
   "outputs": [
    {
     "data": {
      "text/html": [
       "<div>\n",
       "<table border=\"1\" class=\"dataframe\">\n",
       "  <thead>\n",
       "    <tr style=\"text-align: right;\">\n",
       "      <th></th>\n",
       "      <th>C/A</th>\n",
       "      <th>UNIT</th>\n",
       "      <th>SCP</th>\n",
       "      <th>DATE</th>\n",
       "      <th>TIME</th>\n",
       "      <th>DESC</th>\n",
       "      <th>ENTRIES</th>\n",
       "      <th>EXITS</th>\n",
       "    </tr>\n",
       "  </thead>\n",
       "  <tbody>\n",
       "    <tr>\n",
       "      <th>2</th>\n",
       "      <td>A002</td>\n",
       "      <td>R051</td>\n",
       "      <td>02-00-00</td>\n",
       "      <td>01-01-13</td>\n",
       "      <td>03:00:00</td>\n",
       "      <td>REGULAR</td>\n",
       "      <td>3932284.0</td>\n",
       "      <td>1355714.0</td>\n",
       "    </tr>\n",
       "    <tr>\n",
       "      <th>2</th>\n",
       "      <td>A002</td>\n",
       "      <td>R051</td>\n",
       "      <td>02-00-00</td>\n",
       "      <td>01-01-13</td>\n",
       "      <td>07:00:00</td>\n",
       "      <td>REGULAR</td>\n",
       "      <td>3932299.0</td>\n",
       "      <td>1355721.0</td>\n",
       "    </tr>\n",
       "    <tr>\n",
       "      <th>2</th>\n",
       "      <td>A002</td>\n",
       "      <td>R051</td>\n",
       "      <td>02-00-00</td>\n",
       "      <td>01-01-13</td>\n",
       "      <td>11:00:00</td>\n",
       "      <td>REGULAR</td>\n",
       "      <td>3932327.0</td>\n",
       "      <td>1355774.0</td>\n",
       "    </tr>\n",
       "    <tr>\n",
       "      <th>2</th>\n",
       "      <td>A002</td>\n",
       "      <td>R051</td>\n",
       "      <td>02-00-00</td>\n",
       "      <td>01-01-13</td>\n",
       "      <td>15:00:00</td>\n",
       "      <td>REGULAR</td>\n",
       "      <td>3932427.0</td>\n",
       "      <td>1355811.0</td>\n",
       "    </tr>\n",
       "    <tr>\n",
       "      <th>2</th>\n",
       "      <td>A002</td>\n",
       "      <td>R051</td>\n",
       "      <td>02-00-00</td>\n",
       "      <td>01-01-13</td>\n",
       "      <td>19:00:00</td>\n",
       "      <td>REGULAR</td>\n",
       "      <td>3932662.0</td>\n",
       "      <td>1355849.0</td>\n",
       "    </tr>\n",
       "  </tbody>\n",
       "</table>\n",
       "</div>"
      ],
      "text/plain": [
       "    C/A  UNIT       SCP      DATE      TIME     DESC    ENTRIES      EXITS\n",
       "2  A002  R051  02-00-00  01-01-13  03:00:00  REGULAR  3932284.0  1355714.0\n",
       "2  A002  R051  02-00-00  01-01-13  07:00:00  REGULAR  3932299.0  1355721.0\n",
       "2  A002  R051  02-00-00  01-01-13  11:00:00  REGULAR  3932327.0  1355774.0\n",
       "2  A002  R051  02-00-00  01-01-13  15:00:00  REGULAR  3932427.0  1355811.0\n",
       "2  A002  R051  02-00-00  01-01-13  19:00:00  REGULAR  3932662.0  1355849.0"
      ]
     },
     "execution_count": 355,
     "metadata": {},
     "output_type": "execute_result"
    }
   ],
   "source": [
    "test.head()"
   ]
  },
  {
   "cell_type": "code",
   "execution_count": 290,
   "metadata": {
    "collapsed": true
   },
   "outputs": [],
   "source": [
    "# Concatenating all dataframes to create a single combined 2013 dataframe\n",
    "final_2013 = pd.concat([convert(i) for i in dfs], axis = 0)"
   ]
  },
  {
   "cell_type": "code",
   "execution_count": 291,
   "metadata": {
    "collapsed": true
   },
   "outputs": [],
   "source": [
    "# Reset Index after Concatenation\n",
    "final_2013 = final_2013.reset_index()"
   ]
  },
  {
   "cell_type": "code",
   "execution_count": 293,
   "metadata": {
    "collapsed": false
   },
   "outputs": [
    {
     "data": {
      "text/plain": [
       "Index([u'index', u'C/A', u'UNIT', u'SCP', u'DATE', u'TIME', u'DESC',\n",
       "       u'ENTRIES', u'EXITS'],\n",
       "      dtype='object')"
      ]
     },
     "execution_count": 293,
     "metadata": {},
     "output_type": "execute_result"
    }
   ],
   "source": [
    "final_2013.columns"
   ]
  },
  {
   "cell_type": "code",
   "execution_count": 294,
   "metadata": {
    "collapsed": false
   },
   "outputs": [],
   "source": [
    "# Drop Reduandant column\n",
    "final_2013.drop('index', axis = 1, inplace = True)"
   ]
  },
  {
   "cell_type": "code",
   "execution_count": 500,
   "metadata": {
    "collapsed": false
   },
   "outputs": [
    {
     "data": {
      "text/html": [
       "<div>\n",
       "<table border=\"1\" class=\"dataframe\">\n",
       "  <thead>\n",
       "    <tr style=\"text-align: right;\">\n",
       "      <th></th>\n",
       "      <th>C/A</th>\n",
       "      <th>UNIT</th>\n",
       "      <th>SCP</th>\n",
       "      <th>DATE</th>\n",
       "      <th>TIME</th>\n",
       "      <th>DESC</th>\n",
       "      <th>ENTRIES</th>\n",
       "      <th>EXITS</th>\n",
       "    </tr>\n",
       "  </thead>\n",
       "  <tbody>\n",
       "    <tr>\n",
       "      <th>0</th>\n",
       "      <td>A002</td>\n",
       "      <td>R051</td>\n",
       "      <td>02-00-00</td>\n",
       "      <td>01-01-13</td>\n",
       "      <td>03:00:00</td>\n",
       "      <td>REGULAR</td>\n",
       "      <td>3932284.0</td>\n",
       "      <td>1355714.0</td>\n",
       "    </tr>\n",
       "    <tr>\n",
       "      <th>1</th>\n",
       "      <td>A002</td>\n",
       "      <td>R051</td>\n",
       "      <td>02-00-00</td>\n",
       "      <td>01-01-13</td>\n",
       "      <td>07:00:00</td>\n",
       "      <td>REGULAR</td>\n",
       "      <td>3932299.0</td>\n",
       "      <td>1355721.0</td>\n",
       "    </tr>\n",
       "    <tr>\n",
       "      <th>2</th>\n",
       "      <td>A002</td>\n",
       "      <td>R051</td>\n",
       "      <td>02-00-00</td>\n",
       "      <td>01-01-13</td>\n",
       "      <td>11:00:00</td>\n",
       "      <td>REGULAR</td>\n",
       "      <td>3932327.0</td>\n",
       "      <td>1355774.0</td>\n",
       "    </tr>\n",
       "    <tr>\n",
       "      <th>3</th>\n",
       "      <td>A002</td>\n",
       "      <td>R051</td>\n",
       "      <td>02-00-00</td>\n",
       "      <td>01-01-13</td>\n",
       "      <td>15:00:00</td>\n",
       "      <td>REGULAR</td>\n",
       "      <td>3932427.0</td>\n",
       "      <td>1355811.0</td>\n",
       "    </tr>\n",
       "    <tr>\n",
       "      <th>4</th>\n",
       "      <td>A002</td>\n",
       "      <td>R051</td>\n",
       "      <td>02-00-00</td>\n",
       "      <td>01-01-13</td>\n",
       "      <td>19:00:00</td>\n",
       "      <td>REGULAR</td>\n",
       "      <td>3932662.0</td>\n",
       "      <td>1355849.0</td>\n",
       "    </tr>\n",
       "  </tbody>\n",
       "</table>\n",
       "</div>"
      ],
      "text/plain": [
       "    C/A  UNIT       SCP      DATE      TIME     DESC    ENTRIES      EXITS\n",
       "0  A002  R051  02-00-00  01-01-13  03:00:00  REGULAR  3932284.0  1355714.0\n",
       "1  A002  R051  02-00-00  01-01-13  07:00:00  REGULAR  3932299.0  1355721.0\n",
       "2  A002  R051  02-00-00  01-01-13  11:00:00  REGULAR  3932327.0  1355774.0\n",
       "3  A002  R051  02-00-00  01-01-13  15:00:00  REGULAR  3932427.0  1355811.0\n",
       "4  A002  R051  02-00-00  01-01-13  19:00:00  REGULAR  3932662.0  1355849.0"
      ]
     },
     "execution_count": 500,
     "metadata": {},
     "output_type": "execute_result"
    }
   ],
   "source": [
    "# Sanity Check\n",
    "final_2013.head()"
   ]
  },
  {
   "cell_type": "code",
   "execution_count": 501,
   "metadata": {
    "collapsed": true
   },
   "outputs": [],
   "source": [
    "### Add station names. Lookup table can be downloaded from http://web.mta.info/developers/turnstile.html\n",
    "Station = pd.read_csv('Station Names.csv')"
   ]
  },
  {
   "cell_type": "code",
   "execution_count": 502,
   "metadata": {
    "collapsed": false
   },
   "outputs": [
    {
     "data": {
      "text/html": [
       "<div>\n",
       "<table border=\"1\" class=\"dataframe\">\n",
       "  <thead>\n",
       "    <tr style=\"text-align: right;\">\n",
       "      <th></th>\n",
       "      <th>﻿Remote</th>\n",
       "      <th>Booth</th>\n",
       "      <th>Station</th>\n",
       "      <th>Line Name</th>\n",
       "      <th>Division</th>\n",
       "    </tr>\n",
       "  </thead>\n",
       "  <tbody>\n",
       "    <tr>\n",
       "      <th>0</th>\n",
       "      <td>R001</td>\n",
       "      <td>A060</td>\n",
       "      <td>WHITEHALL ST</td>\n",
       "      <td>R1</td>\n",
       "      <td>BMT</td>\n",
       "    </tr>\n",
       "    <tr>\n",
       "      <th>1</th>\n",
       "      <td>R001</td>\n",
       "      <td>A058</td>\n",
       "      <td>WHITEHALL ST</td>\n",
       "      <td>R1</td>\n",
       "      <td>BMT</td>\n",
       "    </tr>\n",
       "    <tr>\n",
       "      <th>2</th>\n",
       "      <td>R001</td>\n",
       "      <td>R101S</td>\n",
       "      <td>SOUTH FERRY</td>\n",
       "      <td>R1</td>\n",
       "      <td>IRT</td>\n",
       "    </tr>\n",
       "    <tr>\n",
       "      <th>3</th>\n",
       "      <td>R002</td>\n",
       "      <td>A077</td>\n",
       "      <td>FULTON ST</td>\n",
       "      <td>ACJZ2345</td>\n",
       "      <td>BMT</td>\n",
       "    </tr>\n",
       "    <tr>\n",
       "      <th>4</th>\n",
       "      <td>R002</td>\n",
       "      <td>A081</td>\n",
       "      <td>FULTON ST</td>\n",
       "      <td>ACJZ2345</td>\n",
       "      <td>BMT</td>\n",
       "    </tr>\n",
       "  </tbody>\n",
       "</table>\n",
       "</div>"
      ],
      "text/plain": [
       "  ﻿Remote  Booth       Station Line Name Division\n",
       "0    R001   A060  WHITEHALL ST        R1      BMT\n",
       "1    R001   A058  WHITEHALL ST        R1      BMT\n",
       "2    R001  R101S   SOUTH FERRY        R1      IRT\n",
       "3    R002   A077     FULTON ST  ACJZ2345      BMT\n",
       "4    R002   A081     FULTON ST  ACJZ2345      BMT"
      ]
     },
     "execution_count": 502,
     "metadata": {},
     "output_type": "execute_result"
    }
   ],
   "source": [
    "Station.head()"
   ]
  },
  {
   "cell_type": "code",
   "execution_count": 503,
   "metadata": {
    "collapsed": false
   },
   "outputs": [
    {
     "data": {
      "text/plain": [
       "395"
      ]
     },
     "execution_count": 503,
     "metadata": {},
     "output_type": "execute_result"
    }
   ],
   "source": [
    "# How many stations are present?\n",
    "len(Station['Station'].unique())"
   ]
  },
  {
   "cell_type": "code",
   "execution_count": 504,
   "metadata": {
    "collapsed": false
   },
   "outputs": [
    {
     "data": {
      "text/plain": [
       "False"
      ]
     },
     "execution_count": 504,
     "metadata": {},
     "output_type": "execute_result"
    }
   ],
   "source": [
    "## Check if Booth ID's are unique\n",
    "(Station['Booth'].value_counts() > 1).any()"
   ]
  },
  {
   "cell_type": "code",
   "execution_count": 505,
   "metadata": {
    "collapsed": true
   },
   "outputs": [],
   "source": [
    "## Select only Station and Booth Column\n",
    "Station = Station[['Booth','Station']]"
   ]
  },
  {
   "cell_type": "code",
   "execution_count": 506,
   "metadata": {
    "collapsed": true
   },
   "outputs": [],
   "source": [
    "# Rename Booth column to C/A \n",
    "Station.rename(columns = {'Booth':'C/A'}, inplace = True)"
   ]
  },
  {
   "cell_type": "code",
   "execution_count": 507,
   "metadata": {
    "collapsed": false
   },
   "outputs": [
    {
     "data": {
      "text/plain": [
       "0"
      ]
     },
     "execution_count": 507,
     "metadata": {},
     "output_type": "execute_result"
    }
   ],
   "source": [
    "# Are there are missing Booth ID's\n",
    "final_2013_data['C/A'].isnull().sum()"
   ]
  },
  {
   "cell_type": "code",
   "execution_count": 681,
   "metadata": {
    "collapsed": true
   },
   "outputs": [],
   "source": [
    "## Merge the two dataframes to obtain Station Names\n",
    "final_2013_data = pd.merge(final_2013, Station, on = ['C/A'])\n",
    "final_2013_data.rename(columns = {'Station':'STATION'}, inplace = True)"
   ]
  },
  {
   "cell_type": "code",
   "execution_count": 682,
   "metadata": {
    "collapsed": false
   },
   "outputs": [
    {
     "data": {
      "text/plain": [
       "0"
      ]
     },
     "execution_count": 682,
     "metadata": {},
     "output_type": "execute_result"
    }
   ],
   "source": [
    "# Are there any missing station Names\n",
    "final_2013_data['STATION'].isnull().sum()"
   ]
  },
  {
   "cell_type": "code",
   "execution_count": 683,
   "metadata": {
    "collapsed": false
   },
   "outputs": [],
   "source": [
    "### Remove Duplicates rows\n",
    "final_2013_data = final_2013_data.drop_duplicates()"
   ]
  },
  {
   "cell_type": "code",
   "execution_count": 684,
   "metadata": {
    "collapsed": false
   },
   "outputs": [
    {
     "name": "stdout",
     "output_type": "stream",
     "text": [
      "4527\n",
      "4527\n"
     ]
    }
   ],
   "source": [
    "## Are there are rows with missing date and time?\n",
    "print final_2013_data['DATE'].isnull().sum()\n",
    "print final_2013_data['TIME'].isnull().sum()"
   ]
  },
  {
   "cell_type": "code",
   "execution_count": 685,
   "metadata": {
    "collapsed": true
   },
   "outputs": [],
   "source": [
    "## Remove rows with missing date and time\n",
    "final_2013_data = final_2013_data[final_2013_data['DATE'].notnull()]"
   ]
  },
  {
   "cell_type": "code",
   "execution_count": 686,
   "metadata": {
    "collapsed": false
   },
   "outputs": [
    {
     "name": "stdout",
     "output_type": "stream",
     "text": [
      "2\n",
      "2\n"
     ]
    }
   ],
   "source": [
    "## Are there any rows with missing Entries and Exits?\n",
    "print final_2013_data['EXITS'].isnull().sum()\n",
    "print final_2013_data['ENTRIES'].isnull().sum()"
   ]
  },
  {
   "cell_type": "code",
   "execution_count": 687,
   "metadata": {
    "collapsed": true
   },
   "outputs": [],
   "source": [
    "## Remove rows with missing Entries and Exits\n",
    "final_2013_data = final_2013_data[final_2013_data['ENTRIES'].notnull()]"
   ]
  },
  {
   "cell_type": "code",
   "execution_count": 688,
   "metadata": {
    "collapsed": false
   },
   "outputs": [],
   "source": [
    "# The time counter in this dataset is not uniform. In some cases it starts at 03:00:00 and the counter after 4 hours \n",
    "# is 07:00:00, whereas in other cases it starts at 04:00:00 and is followed by 08:00:00.\n",
    "# The function below clubs them into a common time bin.\n",
    "\n",
    "def timeclean(t):    \n",
    "    if t[0:2]=='01' or t[0:2]=='02' or t[0:2]=='03' or t[0:2]=='00':\n",
    "        return '00'+ t[2:6]+ t[6:9]\n",
    "    elif t[0:2]=='05' or t[0:2]=='06' or t[0:2]=='07' or t[0:2]=='04':\n",
    "        return '04'+ t[2:6]+ t[6:9]\n",
    "    elif t[0:2]=='09' or t[0:2]=='10' or t[0:2]=='11' or t[0:2]=='08':\n",
    "        return '08'+ t[2:6]+ t[6:9]\n",
    "    elif t[0:2]=='13' or t[0:2]=='14' or t[0:2]=='15' or t[0:2]=='12':\n",
    "        return '12'+ t[2:6]+ t[6:9]\n",
    "    elif t[0:2]=='17' or t[0:2]=='18' or t[0:2]=='19' or t[0:2]=='16':\n",
    "        return '16'+ t[2:6]+ t[6:9]\n",
    "    elif t[0:2]=='21' or t[0:2]=='22' or t[0:2]=='23' or t[0:2]=='20':\n",
    "        return '20'+ t[2:6]+ t[6:9]\n",
    "    else:\n",
    "        return t\n",
    "    \n",
    "final_2013_data['TIME']=final_2013_data['TIME'].apply(timeclean)"
   ]
  },
  {
   "cell_type": "code",
   "execution_count": 689,
   "metadata": {
    "collapsed": false
   },
   "outputs": [],
   "source": [
    "## Lets add a Datetime columns that will make grouping easier.\n",
    "final_2013_data['DATETIME'] = pd.to_datetime((final_2013_data['DATE'] + ' ' + final_2013_data['TIME'])\n",
    "                                             , format='%m-%d-%y %H:%M:%S')"
   ]
  },
  {
   "cell_type": "code",
   "execution_count": 690,
   "metadata": {
    "collapsed": false
   },
   "outputs": [
    {
     "data": {
      "text/plain": [
       "(85352, 10)"
      ]
     },
     "execution_count": 690,
     "metadata": {},
     "output_type": "execute_result"
    }
   ],
   "source": [
    "### Check if there are any rows with 2012 data, if so remove them.\n",
    "final_2013_data.loc[final_2013_data['DATETIME'].dt.year == 2012,].shape"
   ]
  },
  {
   "cell_type": "code",
   "execution_count": 691,
   "metadata": {
    "collapsed": false
   },
   "outputs": [],
   "source": [
    "## Remove 2012 data\n",
    "final_2013_data = final_2013_data[final_2013_data['DATETIME'].dt.year != 2012]"
   ]
  },
  {
   "cell_type": "code",
   "execution_count": 692,
   "metadata": {
    "collapsed": true
   },
   "outputs": [],
   "source": [
    "# Lets define Turnstile as a combination of C/A, UNIT and SCP. This will be useful for grouping.\n",
    "final_2013_data['TURNSTILE'] = final_2013_data['C/A'] + '-' + final_2013_data['UNIT'] + '-' + final_2013_data['SCP']"
   ]
  },
  {
   "cell_type": "code",
   "execution_count": 694,
   "metadata": {
    "collapsed": false
   },
   "outputs": [],
   "source": [
    "# To answer the questions, we need calculate the count per interval instead of the raw turnstile numbers.\n",
    "# Create variable DIFFERENCE_ENTRIES and DIFFERENCE_EXITS that provides raw counts\n",
    "final_2013_data['DIFFERENCE_ENTRIES']=final_2013_data.groupby(['TURNSTILE','STATION'],as_index=False)\n",
    "                                                                ['ENTRIES'].transform(pd.Series.diff)['ENTRIES']\n",
    "final_2013_data['DIFFERENCE_EXITS']=final_2013_data.groupby(['TURNSTILE','STATION'],as_index=False)\n",
    "                                                            ['EXITS'].transform(pd.Series.diff)['EXITS']"
   ]
  },
  {
   "cell_type": "code",
   "execution_count": 695,
   "metadata": {
    "collapsed": false
   },
   "outputs": [
    {
     "data": {
      "text/plain": [
       "4248833     916848568.0\n",
       "1983965     793113679.0\n",
       "9803084     771438080.0\n",
       "679552      741761585.0\n",
       "2473009     677792208.0\n",
       "11463218    652915237.0\n",
       "5642465     643950309.0\n",
       "1962040     635056592.0\n",
       "11948646    532987576.0\n",
       "2957776     501346575.0\n",
       "Name: DIFFERENCE_ENTRIES, dtype: float64"
      ]
     },
     "execution_count": 695,
     "metadata": {},
     "output_type": "execute_result"
    }
   ],
   "source": [
    "final_2013_data['DIFFERENCE_ENTRIES'].nlargest(10)\n",
    "# There are some outrageously large values for DIFFERENCE_ENTRIES. We need to determine a cutoff to eliminate them."
   ]
  },
  {
   "cell_type": "code",
   "execution_count": 696,
   "metadata": {
    "collapsed": false
   },
   "outputs": [
    {
     "data": {
      "text/plain": [
       "(1973, 13)"
      ]
     },
     "execution_count": 696,
     "metadata": {},
     "output_type": "execute_result"
    }
   ],
   "source": [
    "# Are there any negative values for DIFFERENCE_ENTRIES?\n",
    "final_2013_data.loc[final_2013_data['DIFFERENCE_ENTRIES']<0,].shape\n",
    "# This signifies that the counters are not always increasing. They were reset at some point, that's why we have \n",
    "# negative values."
   ]
  },
  {
   "cell_type": "code",
   "execution_count": 697,
   "metadata": {
    "collapsed": false
   },
   "outputs": [
    {
     "data": {
      "text/plain": [
       "array([[<matplotlib.axes._subplots.AxesSubplot object at 0x43f304290>]], dtype=object)"
      ]
     },
     "execution_count": 697,
     "metadata": {},
     "output_type": "execute_result"
    },
    {
     "data": {
      "image/png": "[encoded data removed]",
      "text/plain": [
       "<matplotlib.figure.Figure at 0x43f39c0d0>"
      ]
     },
     "metadata": {},
     "output_type": "display_data"
    }
   ],
   "source": [
    "# Histogram of DIFFERENCE_ENTRIES\n",
    "final_2013_data.loc[:,['DIFFERENCE_ENTRIES']].hist(range = (0,2000), bins = (50), color='k', alpha = 0.5)\n",
    "# The values start to taper off close to 1000"
   ]
  },
  {
   "cell_type": "code",
   "execution_count": 698,
   "metadata": {
    "collapsed": false
   },
   "outputs": [
    {
     "data": {
      "text/plain": [
       "array([[<matplotlib.axes._subplots.AxesSubplot object at 0x62978ded0>]], dtype=object)"
      ]
     },
     "execution_count": 698,
     "metadata": {},
     "output_type": "execute_result"
    },
    {
     "data": {
      "image/png": "[encoded data removed]",
      "text/plain": [
       "<matplotlib.figure.Figure at 0x629917790>"
      ]
     },
     "metadata": {},
     "output_type": "display_data"
    }
   ],
   "source": [
    "# Histogram of DIFFERENCE_EXITS\n",
    "final_2013_data.loc[:,['DIFFERENCE_EXITS']].hist(range = (0,2000), bins = (50), color='k', alpha = 0.5)\n",
    "# Similar to the previous plot"
   ]
  },
  {
   "cell_type": "code",
   "execution_count": 699,
   "metadata": {
    "collapsed": false
   },
   "outputs": [
    {
     "data": {
      "text/plain": [
       "(190009, 13)"
      ]
     },
     "execution_count": 699,
     "metadata": {},
     "output_type": "execute_result"
    }
   ],
   "source": [
    "## Lets examine values above 1000\n",
    "final_2013_data.loc[final_2013_data['DIFFERENCE_ENTRIES'] > 1000,].shape\n",
    "# There are 190k such instances. To drill down further, we can count values at an interval of 1000"
   ]
  },
  {
   "cell_type": "code",
   "execution_count": 703,
   "metadata": {
    "collapsed": false
   },
   "outputs": [
    {
     "name": "stdout",
     "output_type": "stream",
     "text": [
      "(179134, 13)\n",
      "(9781, 13)\n",
      "(332, 13)\n",
      "(63, 13)\n"
     ]
    }
   ],
   "source": [
    "# Examine some potential cut-off points\n",
    "\n",
    "print final_2013_data.loc[(final_2013_data['DIFFERENCE_ENTRIES']>1000) & \n",
    "                          (final_2013_data['DIFFERENCE_ENTRIES']< 2000),].shape\n",
    "print final_2013_data.loc[(final_2013_data['DIFFERENCE_ENTRIES']>2000) & \n",
    "                          (final_2013_data['DIFFERENCE_ENTRIES']< 3000),].shape\n",
    "print final_2013_data.loc[(final_2013_data['DIFFERENCE_ENTRIES']>3000) & \n",
    "                          (final_2013_data['DIFFERENCE_ENTRIES']< 4000),].shape\n",
    "print final_2013_data.loc[(final_2013_data['DIFFERENCE_ENTRIES']>4000) & \n",
    "                          (final_2013_data['DIFFERENCE_ENTRIES']< 5000),].shape"
   ]
  },
  {
   "cell_type": "markdown",
   "metadata": {},
   "source": [
    "It seems like choosing a cutoff point after 1000 or 2000 seems appropriate since the values taper off after 2000.\n",
    "If we choose 1000 as a cut-off point, we will be throwing out true instances where the number of entries in a 4 hour \n",
    "period was indeed in the thousands. Instead taking 2000 as the cut-off point feels like a safe choice where we would eliminate extreme values but at the time keep values between 1000 and 2000."
   ]
  },
  {
   "cell_type": "code",
   "execution_count": 705,
   "metadata": {
    "collapsed": false
   },
   "outputs": [
    {
     "data": {
      "text/plain": [
       "(14242, 13)"
      ]
     },
     "execution_count": 705,
     "metadata": {},
     "output_type": "execute_result"
    }
   ],
   "source": [
    "final_2013_data.loc[final_2013_data['DIFFERENCE_EXITS'] > 2000,].shape"
   ]
  },
  {
   "cell_type": "code",
   "execution_count": 706,
   "metadata": {
    "collapsed": false
   },
   "outputs": [],
   "source": [
    "# Set them to Null\n",
    "final_2013_data.loc[final_2013_data['DIFFERENCE_ENTRIES'] < 0, ['DIFFERENCE_ENTRIES']] = np.NaN\n",
    "final_2013_data.loc[final_2013_data['DIFFERENCE_ENTRIES'] > 2000, ['DIFFERENCE_ENTRIES']] = np.NaN\n",
    "\n",
    "final_2013_data.loc[final_2013_data['DIFFERENCE_EXITS'] < 0, ['DIFFERENCE_EXITS']] = np.NaN\n",
    "final_2013_data.loc[final_2013_data['DIFFERENCE_EXITS'] > 2000, ['DIFFERENCE_EXITS']] = np.NaN"
   ]
  },
  {
   "cell_type": "code",
   "execution_count": 707,
   "metadata": {
    "collapsed": true
   },
   "outputs": [],
   "source": [
    "# Let's add a variable for BUSYNESS which is a sum of Entry and Exit Counts\n",
    "final_2013_data['BUSYNESS'] = final_2013_data['DIFFERENCE_ENTRIES'] + final_2013_data['DIFFERENCE_EXITS']"
   ]
  },
  {
   "cell_type": "code",
   "execution_count": 708,
   "metadata": {
    "collapsed": false
   },
   "outputs": [
    {
     "data": {
      "text/html": [
       "<div>\n",
       "<table border=\"1\" class=\"dataframe\">\n",
       "  <thead>\n",
       "    <tr style=\"text-align: right;\">\n",
       "      <th></th>\n",
       "      <th>C/A</th>\n",
       "      <th>UNIT</th>\n",
       "      <th>SCP</th>\n",
       "      <th>DATE</th>\n",
       "      <th>TIME</th>\n",
       "      <th>DESC</th>\n",
       "      <th>ENTRIES</th>\n",
       "      <th>EXITS</th>\n",
       "      <th>STATION</th>\n",
       "      <th>DATETIME</th>\n",
       "      <th>TURNSTILE</th>\n",
       "      <th>DIFFERENCE_ENTRIES</th>\n",
       "      <th>DIFFERENCE_EXITS</th>\n",
       "      <th>BUSYNESS</th>\n",
       "    </tr>\n",
       "  </thead>\n",
       "  <tbody>\n",
       "    <tr>\n",
       "      <th>0</th>\n",
       "      <td>A002</td>\n",
       "      <td>R051</td>\n",
       "      <td>02-00-00</td>\n",
       "      <td>01-01-13</td>\n",
       "      <td>00:00:00</td>\n",
       "      <td>REGULAR</td>\n",
       "      <td>3932284.0</td>\n",
       "      <td>1355714.0</td>\n",
       "      <td>LEXINGTON AVE</td>\n",
       "      <td>2013-01-01 00:00:00</td>\n",
       "      <td>A002-R051-02-00-00</td>\n",
       "      <td>NaN</td>\n",
       "      <td>NaN</td>\n",
       "      <td>NaN</td>\n",
       "    </tr>\n",
       "    <tr>\n",
       "      <th>1</th>\n",
       "      <td>A002</td>\n",
       "      <td>R051</td>\n",
       "      <td>02-00-00</td>\n",
       "      <td>01-01-13</td>\n",
       "      <td>04:00:00</td>\n",
       "      <td>REGULAR</td>\n",
       "      <td>3932299.0</td>\n",
       "      <td>1355721.0</td>\n",
       "      <td>LEXINGTON AVE</td>\n",
       "      <td>2013-01-01 04:00:00</td>\n",
       "      <td>A002-R051-02-00-00</td>\n",
       "      <td>15.0</td>\n",
       "      <td>7.0</td>\n",
       "      <td>22.0</td>\n",
       "    </tr>\n",
       "    <tr>\n",
       "      <th>2</th>\n",
       "      <td>A002</td>\n",
       "      <td>R051</td>\n",
       "      <td>02-00-00</td>\n",
       "      <td>01-01-13</td>\n",
       "      <td>08:00:00</td>\n",
       "      <td>REGULAR</td>\n",
       "      <td>3932327.0</td>\n",
       "      <td>1355774.0</td>\n",
       "      <td>LEXINGTON AVE</td>\n",
       "      <td>2013-01-01 08:00:00</td>\n",
       "      <td>A002-R051-02-00-00</td>\n",
       "      <td>28.0</td>\n",
       "      <td>53.0</td>\n",
       "      <td>81.0</td>\n",
       "    </tr>\n",
       "    <tr>\n",
       "      <th>3</th>\n",
       "      <td>A002</td>\n",
       "      <td>R051</td>\n",
       "      <td>02-00-00</td>\n",
       "      <td>01-01-13</td>\n",
       "      <td>12:00:00</td>\n",
       "      <td>REGULAR</td>\n",
       "      <td>3932427.0</td>\n",
       "      <td>1355811.0</td>\n",
       "      <td>LEXINGTON AVE</td>\n",
       "      <td>2013-01-01 12:00:00</td>\n",
       "      <td>A002-R051-02-00-00</td>\n",
       "      <td>100.0</td>\n",
       "      <td>37.0</td>\n",
       "      <td>137.0</td>\n",
       "    </tr>\n",
       "    <tr>\n",
       "      <th>4</th>\n",
       "      <td>A002</td>\n",
       "      <td>R051</td>\n",
       "      <td>02-00-00</td>\n",
       "      <td>01-01-13</td>\n",
       "      <td>16:00:00</td>\n",
       "      <td>REGULAR</td>\n",
       "      <td>3932662.0</td>\n",
       "      <td>1355849.0</td>\n",
       "      <td>LEXINGTON AVE</td>\n",
       "      <td>2013-01-01 16:00:00</td>\n",
       "      <td>A002-R051-02-00-00</td>\n",
       "      <td>235.0</td>\n",
       "      <td>38.0</td>\n",
       "      <td>273.0</td>\n",
       "    </tr>\n",
       "  </tbody>\n",
       "</table>\n",
       "</div>"
      ],
      "text/plain": [
       "    C/A  UNIT       SCP      DATE      TIME     DESC    ENTRIES      EXITS  \\\n",
       "0  A002  R051  02-00-00  01-01-13  00:00:00  REGULAR  3932284.0  1355714.0   \n",
       "1  A002  R051  02-00-00  01-01-13  04:00:00  REGULAR  3932299.0  1355721.0   \n",
       "2  A002  R051  02-00-00  01-01-13  08:00:00  REGULAR  3932327.0  1355774.0   \n",
       "3  A002  R051  02-00-00  01-01-13  12:00:00  REGULAR  3932427.0  1355811.0   \n",
       "4  A002  R051  02-00-00  01-01-13  16:00:00  REGULAR  3932662.0  1355849.0   \n",
       "\n",
       "         STATION            DATETIME           TURNSTILE  DIFFERENCE_ENTRIES  \\\n",
       "0  LEXINGTON AVE 2013-01-01 00:00:00  A002-R051-02-00-00                 NaN   \n",
       "1  LEXINGTON AVE 2013-01-01 04:00:00  A002-R051-02-00-00                15.0   \n",
       "2  LEXINGTON AVE 2013-01-01 08:00:00  A002-R051-02-00-00                28.0   \n",
       "3  LEXINGTON AVE 2013-01-01 12:00:00  A002-R051-02-00-00               100.0   \n",
       "4  LEXINGTON AVE 2013-01-01 16:00:00  A002-R051-02-00-00               235.0   \n",
       "\n",
       "   DIFFERENCE_EXITS  BUSYNESS  \n",
       "0               NaN       NaN  \n",
       "1               7.0      22.0  \n",
       "2              53.0      81.0  \n",
       "3              37.0     137.0  \n",
       "4              38.0     273.0  "
      ]
     },
     "execution_count": 708,
     "metadata": {},
     "output_type": "execute_result"
    }
   ],
   "source": [
    "final_2013_data.head()"
   ]
  },
  {
   "cell_type": "code",
   "execution_count": 335,
   "metadata": {
    "collapsed": true
   },
   "outputs": [],
   "source": [
    "### Save the dataframe in a csv file\n",
    "final_2013_data.to_csv('/Users/mohitravi/Desktop/final_2013_data.csv', index = False)"
   ]
  },
  {
   "cell_type": "markdown",
   "metadata": {},
   "source": [
    "** Question - 1: Which station has the most number of units as of today? ** "
   ]
  },
  {
   "cell_type": "code",
   "execution_count": 440,
   "metadata": {
    "collapsed": true
   },
   "outputs": [],
   "source": [
    "## Reading the latest file from MTA Turnstile Website\n",
    "df1 = pd.read_csv('http://web.mta.info/developers/data/nyct/turnstile/turnstile_171230.txt')"
   ]
  },
  {
   "cell_type": "code",
   "execution_count": 441,
   "metadata": {
    "collapsed": true
   },
   "outputs": [],
   "source": [
    "# Let's take today's date as 28th December 2017\n",
    "df1 = df1.set_index('DATE').sort_index(ascending = False)"
   ]
  },
  {
   "cell_type": "code",
   "execution_count": 442,
   "metadata": {
    "collapsed": false
   },
   "outputs": [
    {
     "data": {
      "text/html": [
       "<div>\n",
       "<table border=\"1\" class=\"dataframe\">\n",
       "  <thead>\n",
       "    <tr style=\"text-align: right;\">\n",
       "      <th></th>\n",
       "      <th>C/A</th>\n",
       "      <th>UNIT</th>\n",
       "      <th>SCP</th>\n",
       "      <th>STATION</th>\n",
       "      <th>LINENAME</th>\n",
       "      <th>DIVISION</th>\n",
       "      <th>TIME</th>\n",
       "      <th>DESC</th>\n",
       "      <th>ENTRIES</th>\n",
       "      <th>EXITS</th>\n",
       "    </tr>\n",
       "    <tr>\n",
       "      <th>DATE</th>\n",
       "      <th></th>\n",
       "      <th></th>\n",
       "      <th></th>\n",
       "      <th></th>\n",
       "      <th></th>\n",
       "      <th></th>\n",
       "      <th></th>\n",
       "      <th></th>\n",
       "      <th></th>\n",
       "      <th></th>\n",
       "    </tr>\n",
       "  </thead>\n",
       "  <tbody>\n",
       "    <tr>\n",
       "      <th>12/29/2017</th>\n",
       "      <td>TRAM2</td>\n",
       "      <td>R469</td>\n",
       "      <td>00-03-01</td>\n",
       "      <td>RIT-ROOSEVELT</td>\n",
       "      <td>R</td>\n",
       "      <td>RIT</td>\n",
       "      <td>20:00:00</td>\n",
       "      <td>RECOVR AUD</td>\n",
       "      <td>2446002</td>\n",
       "      <td>27420</td>\n",
       "    </tr>\n",
       "    <tr>\n",
       "      <th>12/29/2017</th>\n",
       "      <td>N533</td>\n",
       "      <td>R129</td>\n",
       "      <td>02-06-02</td>\n",
       "      <td>BERGEN ST</td>\n",
       "      <td>FG</td>\n",
       "      <td>IND</td>\n",
       "      <td>20:00:00</td>\n",
       "      <td>REGULAR</td>\n",
       "      <td>1294786</td>\n",
       "      <td>915150</td>\n",
       "    </tr>\n",
       "    <tr>\n",
       "      <th>12/29/2017</th>\n",
       "      <td>R515</td>\n",
       "      <td>R095</td>\n",
       "      <td>00-00-01</td>\n",
       "      <td>ASTORIA DITMARS</td>\n",
       "      <td>NQW</td>\n",
       "      <td>BMT</td>\n",
       "      <td>23:00:00</td>\n",
       "      <td>REGULAR</td>\n",
       "      <td>2287165</td>\n",
       "      <td>3706802</td>\n",
       "    </tr>\n",
       "    <tr>\n",
       "      <th>12/29/2017</th>\n",
       "      <td>R515</td>\n",
       "      <td>R095</td>\n",
       "      <td>00-00-01</td>\n",
       "      <td>ASTORIA DITMARS</td>\n",
       "      <td>NQW</td>\n",
       "      <td>BMT</td>\n",
       "      <td>19:00:00</td>\n",
       "      <td>REGULAR</td>\n",
       "      <td>2287075</td>\n",
       "      <td>3706372</td>\n",
       "    </tr>\n",
       "    <tr>\n",
       "      <th>12/29/2017</th>\n",
       "      <td>N078</td>\n",
       "      <td>R175</td>\n",
       "      <td>01-03-01</td>\n",
       "      <td>14 ST</td>\n",
       "      <td>ACEL</td>\n",
       "      <td>IND</td>\n",
       "      <td>00:00:00</td>\n",
       "      <td>REGULAR</td>\n",
       "      <td>12182716</td>\n",
       "      <td>14509692</td>\n",
       "    </tr>\n",
       "  </tbody>\n",
       "</table>\n",
       "</div>"
      ],
      "text/plain": [
       "              C/A  UNIT       SCP          STATION LINENAME DIVISION  \\\n",
       "DATE                                                                   \n",
       "12/29/2017  TRAM2  R469  00-03-01    RIT-ROOSEVELT        R      RIT   \n",
       "12/29/2017   N533  R129  02-06-02        BERGEN ST       FG      IND   \n",
       "12/29/2017   R515  R095  00-00-01  ASTORIA DITMARS      NQW      BMT   \n",
       "12/29/2017   R515  R095  00-00-01  ASTORIA DITMARS      NQW      BMT   \n",
       "12/29/2017   N078  R175  01-03-01            14 ST     ACEL      IND   \n",
       "\n",
       "                TIME        DESC   ENTRIES  \\\n",
       "DATE                                         \n",
       "12/29/2017  20:00:00  RECOVR AUD   2446002   \n",
       "12/29/2017  20:00:00     REGULAR   1294786   \n",
       "12/29/2017  23:00:00     REGULAR   2287165   \n",
       "12/29/2017  19:00:00     REGULAR   2287075   \n",
       "12/29/2017  00:00:00     REGULAR  12182716   \n",
       "\n",
       "            EXITS                                                                 \n",
       "DATE                                                                              \n",
       "12/29/2017                                              27420                     \n",
       "12/29/2017                                             915150                     \n",
       "12/29/2017                                            3706802                     \n",
       "12/29/2017                                            3706372                     \n",
       "12/29/2017                                           14509692                     "
      ]
     },
     "execution_count": 442,
     "metadata": {},
     "output_type": "execute_result"
    }
   ],
   "source": [
    "df1.head()"
   ]
  },
  {
   "cell_type": "code",
   "execution_count": 443,
   "metadata": {
    "collapsed": true
   },
   "outputs": [],
   "source": [
    "# Selecting only 28th December 2017\n",
    "df1_today = df1.loc['12/28/2017',]"
   ]
  },
  {
   "cell_type": "code",
   "execution_count": 444,
   "metadata": {
    "collapsed": true
   },
   "outputs": [],
   "source": [
    "# Select only relevant columns\n",
    "df1_today = df1_today[['UNIT','STATION']]"
   ]
  },
  {
   "cell_type": "code",
   "execution_count": 349,
   "metadata": {
    "collapsed": true
   },
   "outputs": [],
   "source": [
    "# Select only unique units for each station\n",
    "df1_today = df1_today.drop_duplicates()"
   ]
  },
  {
   "cell_type": "code",
   "execution_count": 357,
   "metadata": {
    "collapsed": false
   },
   "outputs": [
    {
     "data": {
      "text/plain": [
       "STATION\n",
       "23 ST    6\n",
       "Name: UNIT, dtype: int64"
      ]
     },
     "execution_count": 357,
     "metadata": {},
     "output_type": "execute_result"
    }
   ],
   "source": [
    "# Group by Station to find the count of distinct units\n",
    "df1_today.groupby('STATION')['UNIT'].agg('count').sort_values(ascending = False).head(1)"
   ]
  },
  {
   "cell_type": "code",
   "execution_count": 351,
   "metadata": {
    "collapsed": false
   },
   "outputs": [
    {
     "data": {
      "text/plain": [
       "DATE\n",
       "12/28/2017    R453\n",
       "12/28/2017    R203\n",
       "12/28/2017    R111\n",
       "12/28/2017    R131\n",
       "12/28/2017    R083\n",
       "12/28/2017    R190\n",
       "Name: UNIT, dtype: object"
      ]
     },
     "execution_count": 351,
     "metadata": {},
     "output_type": "execute_result"
    }
   ],
   "source": [
    "df1_today.loc[df1_today['STATION'] == '23 ST','UNIT']"
   ]
  },
  {
   "cell_type": "markdown",
   "metadata": {},
   "source": [
    "23 ST is the station with the most number of distinct units as of 28th December 2017. Also, In this data file - 23 ST, 23 ST-5 AVE and 23 ST-6 AVE are all named as 23 ST, but in the MTA Data dictionary they are separate."
   ]
  },
  {
   "cell_type": "code",
   "execution_count": 352,
   "metadata": {
    "collapsed": false
   },
   "outputs": [
    {
     "data": {
      "text/plain": [
       "Series([], Name: UNIT, dtype: object)"
      ]
     },
     "execution_count": 352,
     "metadata": {},
     "output_type": "execute_result"
    }
   ],
   "source": [
    "# Checking to see if 23 ST-6 AVE exists.\n",
    "df1_today.loc[df1_today['STATION'] == '23 ST-6 AVE','UNIT']"
   ]
  },
  {
   "cell_type": "markdown",
   "metadata": {},
   "source": [
    "** Question - 2: What is the total number of entries & exits across the subway system for August 1, 2013? **"
   ]
  },
  {
   "cell_type": "code",
   "execution_count": 849,
   "metadata": {
    "collapsed": true
   },
   "outputs": [],
   "source": [
    "# Let's consider DESC as REGULAR unless specified.\n",
    "final_2013_REG = final_2013_data[final_2013_data['DESC'] == 'REGULAR']"
   ]
  },
  {
   "cell_type": "code",
   "execution_count": 710,
   "metadata": {
    "collapsed": false
   },
   "outputs": [
    {
     "data": {
      "text/plain": [
       "(9710896, 14)"
      ]
     },
     "execution_count": 710,
     "metadata": {},
     "output_type": "execute_result"
    }
   ],
   "source": [
    "final_2013_REG.shape"
   ]
  },
  {
   "cell_type": "code",
   "execution_count": 711,
   "metadata": {
    "collapsed": false
   },
   "outputs": [],
   "source": [
    "# Take Values only for 1st Aug 2013\n",
    "dfAug1 = final_2013_REG[final_2013_REG['DATE'] == '08-01-13']"
   ]
  },
  {
   "cell_type": "code",
   "execution_count": 712,
   "metadata": {
    "collapsed": false
   },
   "outputs": [
    {
     "data": {
      "text/plain": [
       "5387519.0"
      ]
     },
     "execution_count": 712,
     "metadata": {},
     "output_type": "execute_result"
    }
   ],
   "source": [
    "# Sum of all Delta of Entries and Exits\n",
    "dfAug1['DIFFERENCE_ENTRIES'].sum()"
   ]
  },
  {
   "cell_type": "code",
   "execution_count": 713,
   "metadata": {
    "collapsed": false
   },
   "outputs": [
    {
     "data": {
      "text/plain": [
       "4194568.0"
      ]
     },
     "execution_count": 713,
     "metadata": {},
     "output_type": "execute_result"
    }
   ],
   "source": [
    "dfAug1['DIFFERENCE_EXITS'].sum()"
   ]
  },
  {
   "cell_type": "code",
   "execution_count": 714,
   "metadata": {
    "collapsed": false
   },
   "outputs": [
    {
     "name": "stdout",
     "output_type": "stream",
     "text": [
      "The total number of entries & exits across the subway system for August 1, 2013 is  9582087.0\n"
     ]
    }
   ],
   "source": [
    "print 'The total number of entries & exits across the subway system for August 1, 2013 is', \n",
    "dfAug1['DIFFERENCE_ENTRIES'].sum() + dfAug1['DIFFERENCE_EXITS'].sum()"
   ]
  },
  {
   "cell_type": "markdown",
   "metadata": {},
   "source": [
    "** Question - 3: Let’s define the busy-ness as sum of entry & exit count. What station was the busiest on August 1, 2013? What turnstile was the busiest on that date? **"
   ]
  },
  {
   "cell_type": "code",
   "execution_count": 715,
   "metadata": {
    "collapsed": false
   },
   "outputs": [
    {
     "data": {
      "text/plain": [
       "STATION\n",
       "34 ST-PENN STA    305084.0\n",
       "Name: BUSYNESS, dtype: float64"
      ]
     },
     "execution_count": 715,
     "metadata": {},
     "output_type": "execute_result"
    }
   ],
   "source": [
    "# Busiest Station on 1st Aug\n",
    "dfAug1.groupby('STATION')['BUSYNESS'].sum().sort_values(ascending = False).head(1)"
   ]
  },
  {
   "cell_type": "code",
   "execution_count": 716,
   "metadata": {
    "collapsed": false
   },
   "outputs": [
    {
     "data": {
      "text/plain": [
       "TURNSTILE\n",
       "R533-R055-00-03-00    9881.0\n",
       "Name: BUSYNESS, dtype: float64"
      ]
     },
     "execution_count": 716,
     "metadata": {},
     "output_type": "execute_result"
    }
   ],
   "source": [
    "# Busiest Turnstile on 1st Aug\n",
    "dfAug1.groupby('TURNSTILE')['BUSYNESS'].sum().sort_values(ascending = False).head(1)"
   ]
  },
  {
   "cell_type": "code",
   "execution_count": 747,
   "metadata": {
    "collapsed": false
   },
   "outputs": [
    {
     "data": {
      "text/html": [
       "<div>\n",
       "<table border=\"1\" class=\"dataframe\">\n",
       "  <thead>\n",
       "    <tr style=\"text-align: right;\">\n",
       "      <th></th>\n",
       "      <th>STATION</th>\n",
       "    </tr>\n",
       "  </thead>\n",
       "  <tbody>\n",
       "    <tr>\n",
       "      <th>11324151</th>\n",
       "      <td>MAIN ST</td>\n",
       "    </tr>\n",
       "  </tbody>\n",
       "</table>\n",
       "</div>"
      ],
      "text/plain": [
       "          STATION\n",
       "11324151  MAIN ST"
      ]
     },
     "execution_count": 747,
     "metadata": {},
     "output_type": "execute_result"
    }
   ],
   "source": [
    "# Which station does the turnstile belong to?\n",
    "dfAug1.loc[dfAug1['TURNSTILE'] == 'R533-R055-00-03-00',['STATION']].head(1)"
   ]
  },
  {
   "cell_type": "markdown",
   "metadata": {},
   "source": [
    "The busiest Station was 34 ST-PENN STA and the busiest turnstile was R533-R055-00-03-00 which is located in\n",
    "MAIN ST."
   ]
  },
  {
   "cell_type": "markdown",
   "metadata": {},
   "source": [
    "** Question - 4: What stations have seen the most usage growth/decline in 2013? **"
   ]
  },
  {
   "cell_type": "code",
   "execution_count": 748,
   "metadata": {
    "collapsed": false
   },
   "outputs": [],
   "source": [
    "# Let's define usage as average busyness per week. We can caluclate usage for each station and take mean of percent\n",
    "# change to obtain growth rate"
   ]
  },
  {
   "cell_type": "code",
   "execution_count": 851,
   "metadata": {
    "collapsed": false
   },
   "outputs": [
    {
     "name": "stderr",
     "output_type": "stream",
     "text": [
      "/Users/mohitravi/anaconda/lib/python2.7/site-packages/ipykernel/__main__.py:2: SettingWithCopyWarning: \n",
      "A value is trying to be set on a copy of a slice from a DataFrame.\n",
      "Try using .loc[row_indexer,col_indexer] = value instead\n",
      "\n",
      "See the caveats in the documentation: http://pandas.pydata.org/pandas-docs/stable/indexing.html#indexing-view-versus-copy\n",
      "  from ipykernel import kernelapp as app\n"
     ]
    }
   ],
   "source": [
    "# Create a new variable to get week of year from Date\n",
    "final_2013_REG['WEEK_OF_YEAR'] = final_2013_REG['DATETIME'].dt.weekofyear"
   ]
  },
  {
   "cell_type": "code",
   "execution_count": 878,
   "metadata": {
    "collapsed": false
   },
   "outputs": [
    {
     "data": {
      "text/plain": [
       "STATION  WEEK_OF_YEAR\n",
       "1 AVE    1               627.171014\n",
       "         2               709.086747\n",
       "         3               731.256471\n",
       "         4               661.962963\n",
       "         5               719.593458\n",
       "Name: BUSYNESS, dtype: float64"
      ]
     },
     "execution_count": 878,
     "metadata": {},
     "output_type": "execute_result"
    }
   ],
   "source": [
    "# Group by Station and Month on Busyness\n",
    "final_2013_REG.groupby(['STATION','WEEK_OF_YEAR'])['BUSYNESS'].agg('mean').head(5)"
   ]
  },
  {
   "cell_type": "code",
   "execution_count": 862,
   "metadata": {
    "collapsed": false
   },
   "outputs": [],
   "source": [
    "# Convert the results of the group by statement to a dataframe to calculate percent change\n",
    "df_Usage = final_2013_REG.groupby(['STATION','WEEK_OF_YEAR'])['BUSYNESS'].agg('mean').reset_index()"
   ]
  },
  {
   "cell_type": "code",
   "execution_count": 863,
   "metadata": {
    "collapsed": false
   },
   "outputs": [
    {
     "data": {
      "text/html": [
       "<div>\n",
       "<table border=\"1\" class=\"dataframe\">\n",
       "  <thead>\n",
       "    <tr style=\"text-align: right;\">\n",
       "      <th></th>\n",
       "      <th>STATION</th>\n",
       "      <th>WEEK_OF_YEAR</th>\n",
       "      <th>BUSYNESS</th>\n",
       "    </tr>\n",
       "  </thead>\n",
       "  <tbody>\n",
       "    <tr>\n",
       "      <th>0</th>\n",
       "      <td>1 AVE</td>\n",
       "      <td>1</td>\n",
       "      <td>627.171014</td>\n",
       "    </tr>\n",
       "    <tr>\n",
       "      <th>1</th>\n",
       "      <td>1 AVE</td>\n",
       "      <td>2</td>\n",
       "      <td>709.086747</td>\n",
       "    </tr>\n",
       "    <tr>\n",
       "      <th>2</th>\n",
       "      <td>1 AVE</td>\n",
       "      <td>3</td>\n",
       "      <td>731.256471</td>\n",
       "    </tr>\n",
       "    <tr>\n",
       "      <th>3</th>\n",
       "      <td>1 AVE</td>\n",
       "      <td>4</td>\n",
       "      <td>661.962963</td>\n",
       "    </tr>\n",
       "    <tr>\n",
       "      <th>4</th>\n",
       "      <td>1 AVE</td>\n",
       "      <td>5</td>\n",
       "      <td>719.593458</td>\n",
       "    </tr>\n",
       "  </tbody>\n",
       "</table>\n",
       "</div>"
      ],
      "text/plain": [
       "  STATION  WEEK_OF_YEAR    BUSYNESS\n",
       "0   1 AVE             1  627.171014\n",
       "1   1 AVE             2  709.086747\n",
       "2   1 AVE             3  731.256471\n",
       "3   1 AVE             4  661.962963\n",
       "4   1 AVE             5  719.593458"
      ]
     },
     "execution_count": 863,
     "metadata": {},
     "output_type": "execute_result"
    }
   ],
   "source": [
    "df_Usage = df_Usage.sort_values(by = ['STATION','WEEK_OF_YEAR'])\n",
    "df_Usage.head(5)"
   ]
  },
  {
   "cell_type": "code",
   "execution_count": 864,
   "metadata": {
    "collapsed": false
   },
   "outputs": [],
   "source": [
    "# In cases, where there is a division of 1 and 0, it will raise errors. Therefore, convert 0 to 0.1 for BUSYNESS.\n",
    "df_Usage.loc[df_Usage['BUSYNESS'] == 0,'BUSYNESS'] = 0.1\n",
    "# Calculate Percent Change\n",
    "df_Usage['PCT_CHANGE'] = df_Usage.groupby('STATION')['BUSYNESS'].pct_change()"
   ]
  },
  {
   "cell_type": "code",
   "execution_count": 867,
   "metadata": {
    "collapsed": false
   },
   "outputs": [
    {
     "data": {
      "text/plain": [
       "STATION\n",
       "BEACH 90 ST        9.773748\n",
       "WAKEFIELD-241      4.996357\n",
       "BEACH 98 ST        3.985627\n",
       "ORCHARD BEACH      1.900805\n",
       "BEACH 105 ST       1.611306\n",
       "AQUEDUCT TRACK     1.599532\n",
       "KNICKERBOCKER      1.429541\n",
       "ROCKAWAY PK 116    1.192239\n",
       "SMITH-9 ST         1.024946\n",
       "BROAD CHANNEL      0.429835\n",
       "Name: PCT_CHANGE, dtype: float64"
      ]
     },
     "execution_count": 867,
     "metadata": {},
     "output_type": "execute_result"
    }
   ],
   "source": [
    "# Take mean of Percent Change for each station\n",
    "# Top 10 growing stations. Looks like BEACH 90 ST was the highest growing station.\n",
    "df_Usage.groupby('STATION')['PCT_CHANGE'].mean().sort_values(ascending = False).head(10)"
   ]
  },
  {
   "cell_type": "code",
   "execution_count": 874,
   "metadata": {
    "collapsed": false
   },
   "outputs": [
    {
     "data": {
      "text/plain": [
       "STATION\n",
       "FT HAMILTON PKY   -0.002157\n",
       "4 AVE             -0.002469\n",
       "BEDFORD AVE       -0.002560\n",
       "FRANKLIN AVE      -0.003320\n",
       "FRESH POND ROAD   -0.003871\n",
       "9 AVE             -0.004028\n",
       "NASSAU AV         -0.004486\n",
       "GROVE STREET      -0.004915\n",
       "AQUEDUCT-N CNDT   -0.006626\n",
       "LGA AIRPORT CTB         NaN\n",
       "Name: PCT_CHANGE, dtype: float64"
      ]
     },
     "execution_count": 874,
     "metadata": {},
     "output_type": "execute_result"
    }
   ],
   "source": [
    "# Top 10 low growth stations\n",
    "# AQUEDUCT-N CNDT has the lowest growth percentage\n",
    "df_Usage.groupby('STATION')['PCT_CHANGE'].mean().sort_values(ascending = False).tail(10)"
   ]
  },
  {
   "cell_type": "code",
   "execution_count": 875,
   "metadata": {
    "collapsed": false
   },
   "outputs": [
    {
     "data": {
      "text/html": [
       "<div>\n",
       "<table border=\"1\" class=\"dataframe\">\n",
       "  <thead>\n",
       "    <tr style=\"text-align: right;\">\n",
       "      <th></th>\n",
       "      <th>STATION</th>\n",
       "      <th>WEEK_OF_YEAR</th>\n",
       "      <th>BUSYNESS</th>\n",
       "      <th>PCT_CHANGE</th>\n",
       "    </tr>\n",
       "  </thead>\n",
       "  <tbody>\n",
       "    <tr>\n",
       "      <th>7508</th>\n",
       "      <td>BEACH 90 ST</td>\n",
       "      <td>1</td>\n",
       "      <td>0.028571</td>\n",
       "      <td>NaN</td>\n",
       "    </tr>\n",
       "    <tr>\n",
       "      <th>7509</th>\n",
       "      <td>BEACH 90 ST</td>\n",
       "      <td>2</td>\n",
       "      <td>0.015873</td>\n",
       "      <td>-0.444444</td>\n",
       "    </tr>\n",
       "    <tr>\n",
       "      <th>7510</th>\n",
       "      <td>BEACH 90 ST</td>\n",
       "      <td>3</td>\n",
       "      <td>0.055556</td>\n",
       "      <td>2.500000</td>\n",
       "    </tr>\n",
       "    <tr>\n",
       "      <th>7511</th>\n",
       "      <td>BEACH 90 ST</td>\n",
       "      <td>4</td>\n",
       "      <td>0.103175</td>\n",
       "      <td>0.857143</td>\n",
       "    </tr>\n",
       "    <tr>\n",
       "      <th>7512</th>\n",
       "      <td>BEACH 90 ST</td>\n",
       "      <td>5</td>\n",
       "      <td>0.015873</td>\n",
       "      <td>-0.846154</td>\n",
       "    </tr>\n",
       "    <tr>\n",
       "      <th>7513</th>\n",
       "      <td>BEACH 90 ST</td>\n",
       "      <td>6</td>\n",
       "      <td>0.036232</td>\n",
       "      <td>1.282609</td>\n",
       "    </tr>\n",
       "    <tr>\n",
       "      <th>7514</th>\n",
       "      <td>BEACH 90 ST</td>\n",
       "      <td>7</td>\n",
       "      <td>0.015152</td>\n",
       "      <td>-0.581818</td>\n",
       "    </tr>\n",
       "    <tr>\n",
       "      <th>7515</th>\n",
       "      <td>BEACH 90 ST</td>\n",
       "      <td>8</td>\n",
       "      <td>0.032520</td>\n",
       "      <td>1.146341</td>\n",
       "    </tr>\n",
       "    <tr>\n",
       "      <th>7516</th>\n",
       "      <td>BEACH 90 ST</td>\n",
       "      <td>9</td>\n",
       "      <td>0.100000</td>\n",
       "      <td>2.075000</td>\n",
       "    </tr>\n",
       "    <tr>\n",
       "      <th>7517</th>\n",
       "      <td>BEACH 90 ST</td>\n",
       "      <td>10</td>\n",
       "      <td>0.163793</td>\n",
       "      <td>0.637931</td>\n",
       "    </tr>\n",
       "    <tr>\n",
       "      <th>7518</th>\n",
       "      <td>BEACH 90 ST</td>\n",
       "      <td>11</td>\n",
       "      <td>0.015873</td>\n",
       "      <td>-0.903091</td>\n",
       "    </tr>\n",
       "    <tr>\n",
       "      <th>7519</th>\n",
       "      <td>BEACH 90 ST</td>\n",
       "      <td>12</td>\n",
       "      <td>0.051852</td>\n",
       "      <td>2.266667</td>\n",
       "    </tr>\n",
       "    <tr>\n",
       "      <th>7520</th>\n",
       "      <td>BEACH 90 ST</td>\n",
       "      <td>13</td>\n",
       "      <td>0.106667</td>\n",
       "      <td>1.057143</td>\n",
       "    </tr>\n",
       "    <tr>\n",
       "      <th>7521</th>\n",
       "      <td>BEACH 90 ST</td>\n",
       "      <td>14</td>\n",
       "      <td>0.023810</td>\n",
       "      <td>-0.776786</td>\n",
       "    </tr>\n",
       "    <tr>\n",
       "      <th>7522</th>\n",
       "      <td>BEACH 90 ST</td>\n",
       "      <td>15</td>\n",
       "      <td>0.031008</td>\n",
       "      <td>0.302326</td>\n",
       "    </tr>\n",
       "    <tr>\n",
       "      <th>7523</th>\n",
       "      <td>BEACH 90 ST</td>\n",
       "      <td>16</td>\n",
       "      <td>0.015873</td>\n",
       "      <td>-0.488095</td>\n",
       "    </tr>\n",
       "    <tr>\n",
       "      <th>7524</th>\n",
       "      <td>BEACH 90 ST</td>\n",
       "      <td>17</td>\n",
       "      <td>0.047619</td>\n",
       "      <td>2.000000</td>\n",
       "    </tr>\n",
       "    <tr>\n",
       "      <th>7525</th>\n",
       "      <td>BEACH 90 ST</td>\n",
       "      <td>18</td>\n",
       "      <td>0.047619</td>\n",
       "      <td>0.000000</td>\n",
       "    </tr>\n",
       "    <tr>\n",
       "      <th>7526</th>\n",
       "      <td>BEACH 90 ST</td>\n",
       "      <td>19</td>\n",
       "      <td>0.031746</td>\n",
       "      <td>-0.333333</td>\n",
       "    </tr>\n",
       "    <tr>\n",
       "      <th>7527</th>\n",
       "      <td>BEACH 90 ST</td>\n",
       "      <td>20</td>\n",
       "      <td>0.087302</td>\n",
       "      <td>1.750000</td>\n",
       "    </tr>\n",
       "    <tr>\n",
       "      <th>7528</th>\n",
       "      <td>BEACH 90 ST</td>\n",
       "      <td>21</td>\n",
       "      <td>0.139535</td>\n",
       "      <td>0.598309</td>\n",
       "    </tr>\n",
       "    <tr>\n",
       "      <th>7529</th>\n",
       "      <td>BEACH 90 ST</td>\n",
       "      <td>22</td>\n",
       "      <td>67.682171</td>\n",
       "      <td>484.055556</td>\n",
       "    </tr>\n",
       "    <tr>\n",
       "      <th>7530</th>\n",
       "      <td>BEACH 90 ST</td>\n",
       "      <td>23</td>\n",
       "      <td>77.269841</td>\n",
       "      <td>0.141657</td>\n",
       "    </tr>\n",
       "    <tr>\n",
       "      <th>7531</th>\n",
       "      <td>BEACH 90 ST</td>\n",
       "      <td>24</td>\n",
       "      <td>79.206349</td>\n",
       "      <td>0.025062</td>\n",
       "    </tr>\n",
       "    <tr>\n",
       "      <th>7532</th>\n",
       "      <td>BEACH 90 ST</td>\n",
       "      <td>25</td>\n",
       "      <td>120.063492</td>\n",
       "      <td>0.515832</td>\n",
       "    </tr>\n",
       "    <tr>\n",
       "      <th>7533</th>\n",
       "      <td>BEACH 90 ST</td>\n",
       "      <td>26</td>\n",
       "      <td>116.488372</td>\n",
       "      <td>-0.029777</td>\n",
       "    </tr>\n",
       "    <tr>\n",
       "      <th>7534</th>\n",
       "      <td>BEACH 90 ST</td>\n",
       "      <td>27</td>\n",
       "      <td>152.060606</td>\n",
       "      <td>0.305372</td>\n",
       "    </tr>\n",
       "    <tr>\n",
       "      <th>7535</th>\n",
       "      <td>BEACH 90 ST</td>\n",
       "      <td>28</td>\n",
       "      <td>98.829457</td>\n",
       "      <td>-0.350065</td>\n",
       "    </tr>\n",
       "    <tr>\n",
       "      <th>7536</th>\n",
       "      <td>BEACH 90 ST</td>\n",
       "      <td>29</td>\n",
       "      <td>166.055556</td>\n",
       "      <td>0.680223</td>\n",
       "    </tr>\n",
       "    <tr>\n",
       "      <th>7537</th>\n",
       "      <td>BEACH 90 ST</td>\n",
       "      <td>30</td>\n",
       "      <td>102.790698</td>\n",
       "      <td>-0.380986</td>\n",
       "    </tr>\n",
       "    <tr>\n",
       "      <th>7538</th>\n",
       "      <td>BEACH 90 ST</td>\n",
       "      <td>31</td>\n",
       "      <td>110.190476</td>\n",
       "      <td>0.071989</td>\n",
       "    </tr>\n",
       "    <tr>\n",
       "      <th>7539</th>\n",
       "      <td>BEACH 90 ST</td>\n",
       "      <td>32</td>\n",
       "      <td>111.642857</td>\n",
       "      <td>0.013181</td>\n",
       "    </tr>\n",
       "    <tr>\n",
       "      <th>7540</th>\n",
       "      <td>BEACH 90 ST</td>\n",
       "      <td>33</td>\n",
       "      <td>94.426357</td>\n",
       "      <td>-0.154210</td>\n",
       "    </tr>\n",
       "    <tr>\n",
       "      <th>7541</th>\n",
       "      <td>BEACH 90 ST</td>\n",
       "      <td>34</td>\n",
       "      <td>124.968254</td>\n",
       "      <td>0.323447</td>\n",
       "    </tr>\n",
       "    <tr>\n",
       "      <th>7542</th>\n",
       "      <td>BEACH 90 ST</td>\n",
       "      <td>35</td>\n",
       "      <td>89.666667</td>\n",
       "      <td>-0.282484</td>\n",
       "    </tr>\n",
       "    <tr>\n",
       "      <th>7543</th>\n",
       "      <td>BEACH 90 ST</td>\n",
       "      <td>36</td>\n",
       "      <td>63.935897</td>\n",
       "      <td>-0.286960</td>\n",
       "    </tr>\n",
       "    <tr>\n",
       "      <th>7544</th>\n",
       "      <td>BEACH 90 ST</td>\n",
       "      <td>37</td>\n",
       "      <td>48.242857</td>\n",
       "      <td>-0.245450</td>\n",
       "    </tr>\n",
       "    <tr>\n",
       "      <th>7545</th>\n",
       "      <td>BEACH 90 ST</td>\n",
       "      <td>38</td>\n",
       "      <td>40.519048</td>\n",
       "      <td>-0.160103</td>\n",
       "    </tr>\n",
       "    <tr>\n",
       "      <th>7546</th>\n",
       "      <td>BEACH 90 ST</td>\n",
       "      <td>39</td>\n",
       "      <td>42.819048</td>\n",
       "      <td>0.056763</td>\n",
       "    </tr>\n",
       "    <tr>\n",
       "      <th>7547</th>\n",
       "      <td>BEACH 90 ST</td>\n",
       "      <td>40</td>\n",
       "      <td>41.342857</td>\n",
       "      <td>-0.034475</td>\n",
       "    </tr>\n",
       "    <tr>\n",
       "      <th>7548</th>\n",
       "      <td>BEACH 90 ST</td>\n",
       "      <td>41</td>\n",
       "      <td>37.238095</td>\n",
       "      <td>-0.099286</td>\n",
       "    </tr>\n",
       "    <tr>\n",
       "      <th>7549</th>\n",
       "      <td>BEACH 90 ST</td>\n",
       "      <td>42</td>\n",
       "      <td>34.511111</td>\n",
       "      <td>-0.073231</td>\n",
       "    </tr>\n",
       "    <tr>\n",
       "      <th>7550</th>\n",
       "      <td>BEACH 90 ST</td>\n",
       "      <td>43</td>\n",
       "      <td>37.628571</td>\n",
       "      <td>0.090332</td>\n",
       "    </tr>\n",
       "    <tr>\n",
       "      <th>7551</th>\n",
       "      <td>BEACH 90 ST</td>\n",
       "      <td>44</td>\n",
       "      <td>31.009709</td>\n",
       "      <td>-0.175900</td>\n",
       "    </tr>\n",
       "    <tr>\n",
       "      <th>7552</th>\n",
       "      <td>BEACH 90 ST</td>\n",
       "      <td>45</td>\n",
       "      <td>36.066667</td>\n",
       "      <td>0.163077</td>\n",
       "    </tr>\n",
       "    <tr>\n",
       "      <th>7553</th>\n",
       "      <td>BEACH 90 ST</td>\n",
       "      <td>46</td>\n",
       "      <td>37.909524</td>\n",
       "      <td>0.051096</td>\n",
       "    </tr>\n",
       "    <tr>\n",
       "      <th>7554</th>\n",
       "      <td>BEACH 90 ST</td>\n",
       "      <td>47</td>\n",
       "      <td>36.061905</td>\n",
       "      <td>-0.048738</td>\n",
       "    </tr>\n",
       "    <tr>\n",
       "      <th>7555</th>\n",
       "      <td>BEACH 90 ST</td>\n",
       "      <td>48</td>\n",
       "      <td>33.165000</td>\n",
       "      <td>-0.080331</td>\n",
       "    </tr>\n",
       "    <tr>\n",
       "      <th>7556</th>\n",
       "      <td>BEACH 90 ST</td>\n",
       "      <td>49</td>\n",
       "      <td>102.680952</td>\n",
       "      <td>2.096064</td>\n",
       "    </tr>\n",
       "    <tr>\n",
       "      <th>7557</th>\n",
       "      <td>BEACH 90 ST</td>\n",
       "      <td>50</td>\n",
       "      <td>45.938095</td>\n",
       "      <td>-0.552613</td>\n",
       "    </tr>\n",
       "    <tr>\n",
       "      <th>7558</th>\n",
       "      <td>BEACH 90 ST</td>\n",
       "      <td>51</td>\n",
       "      <td>106.567442</td>\n",
       "      <td>1.319805</td>\n",
       "    </tr>\n",
       "    <tr>\n",
       "      <th>7559</th>\n",
       "      <td>BEACH 90 ST</td>\n",
       "      <td>52</td>\n",
       "      <td>43.326667</td>\n",
       "      <td>-0.593434</td>\n",
       "    </tr>\n",
       "  </tbody>\n",
       "</table>\n",
       "</div>"
      ],
      "text/plain": [
       "          STATION  WEEK_OF_YEAR    BUSYNESS  PCT_CHANGE\n",
       "7508  BEACH 90 ST             1    0.028571         NaN\n",
       "7509  BEACH 90 ST             2    0.015873   -0.444444\n",
       "7510  BEACH 90 ST             3    0.055556    2.500000\n",
       "7511  BEACH 90 ST             4    0.103175    0.857143\n",
       "7512  BEACH 90 ST             5    0.015873   -0.846154\n",
       "7513  BEACH 90 ST             6    0.036232    1.282609\n",
       "7514  BEACH 90 ST             7    0.015152   -0.581818\n",
       "7515  BEACH 90 ST             8    0.032520    1.146341\n",
       "7516  BEACH 90 ST             9    0.100000    2.075000\n",
       "7517  BEACH 90 ST            10    0.163793    0.637931\n",
       "7518  BEACH 90 ST            11    0.015873   -0.903091\n",
       "7519  BEACH 90 ST            12    0.051852    2.266667\n",
       "7520  BEACH 90 ST            13    0.106667    1.057143\n",
       "7521  BEACH 90 ST            14    0.023810   -0.776786\n",
       "7522  BEACH 90 ST            15    0.031008    0.302326\n",
       "7523  BEACH 90 ST            16    0.015873   -0.488095\n",
       "7524  BEACH 90 ST            17    0.047619    2.000000\n",
       "7525  BEACH 90 ST            18    0.047619    0.000000\n",
       "7526  BEACH 90 ST            19    0.031746   -0.333333\n",
       "7527  BEACH 90 ST            20    0.087302    1.750000\n",
       "7528  BEACH 90 ST            21    0.139535    0.598309\n",
       "7529  BEACH 90 ST            22   67.682171  484.055556\n",
       "7530  BEACH 90 ST            23   77.269841    0.141657\n",
       "7531  BEACH 90 ST            24   79.206349    0.025062\n",
       "7532  BEACH 90 ST            25  120.063492    0.515832\n",
       "7533  BEACH 90 ST            26  116.488372   -0.029777\n",
       "7534  BEACH 90 ST            27  152.060606    0.305372\n",
       "7535  BEACH 90 ST            28   98.829457   -0.350065\n",
       "7536  BEACH 90 ST            29  166.055556    0.680223\n",
       "7537  BEACH 90 ST            30  102.790698   -0.380986\n",
       "7538  BEACH 90 ST            31  110.190476    0.071989\n",
       "7539  BEACH 90 ST            32  111.642857    0.013181\n",
       "7540  BEACH 90 ST            33   94.426357   -0.154210\n",
       "7541  BEACH 90 ST            34  124.968254    0.323447\n",
       "7542  BEACH 90 ST            35   89.666667   -0.282484\n",
       "7543  BEACH 90 ST            36   63.935897   -0.286960\n",
       "7544  BEACH 90 ST            37   48.242857   -0.245450\n",
       "7545  BEACH 90 ST            38   40.519048   -0.160103\n",
       "7546  BEACH 90 ST            39   42.819048    0.056763\n",
       "7547  BEACH 90 ST            40   41.342857   -0.034475\n",
       "7548  BEACH 90 ST            41   37.238095   -0.099286\n",
       "7549  BEACH 90 ST            42   34.511111   -0.073231\n",
       "7550  BEACH 90 ST            43   37.628571    0.090332\n",
       "7551  BEACH 90 ST            44   31.009709   -0.175900\n",
       "7552  BEACH 90 ST            45   36.066667    0.163077\n",
       "7553  BEACH 90 ST            46   37.909524    0.051096\n",
       "7554  BEACH 90 ST            47   36.061905   -0.048738\n",
       "7555  BEACH 90 ST            48   33.165000   -0.080331\n",
       "7556  BEACH 90 ST            49  102.680952    2.096064\n",
       "7557  BEACH 90 ST            50   45.938095   -0.552613\n",
       "7558  BEACH 90 ST            51  106.567442    1.319805\n",
       "7559  BEACH 90 ST            52   43.326667   -0.593434"
      ]
     },
     "execution_count": 875,
     "metadata": {},
     "output_type": "execute_result"
    }
   ],
   "source": [
    "# Let's investigate 90 BEACH ST. We can see that BUSYNESS picks up from week 22 onwards.\n",
    "df_Usage.loc[df_Usage['STATION'] == 'BEACH 90 ST', ]"
   ]
  },
  {
   "cell_type": "markdown",
   "metadata": {},
   "source": [
    "After further research online, this station was found to be not operating under full capacity due to the effects of hurricane Sandy the previous year and it was restored back again on May 30th 2013.\n",
    "\n",
    "http://www.nytimes.com/2013/05/31/nyregion/the-a-line-returns-to-the-rockaways-mostly-for-the-better.html\n",
    "\n",
    "\"After Hurricane Sandy hit and destroyed the long stretch of the IND Rockaway Line, this was a terminal of the \n",
    "temporary H shuttle until May 30, 2013, when the A train and the Rockaway Park Shuttle were restored to the Rockaways.\n",
    "H trains terminated on the northbound track, because the Rockaway Park Shuttle was not in operation\n",
    "and A service was cut to Howard Beach–JFK Airport.\""
   ]
  },
  {
   "cell_type": "code",
   "execution_count": 882,
   "metadata": {
    "collapsed": false
   },
   "outputs": [
    {
     "data": {
      "text/html": [
       "<div>\n",
       "<table border=\"1\" class=\"dataframe\">\n",
       "  <thead>\n",
       "    <tr style=\"text-align: right;\">\n",
       "      <th></th>\n",
       "      <th>STATION</th>\n",
       "      <th>WEEK_OF_YEAR</th>\n",
       "      <th>BUSYNESS</th>\n",
       "      <th>PCT_CHANGE</th>\n",
       "    </tr>\n",
       "  </thead>\n",
       "  <tbody>\n",
       "    <tr>\n",
       "      <th>14296</th>\n",
       "      <td>LGA AIRPORT CTB</td>\n",
       "      <td>50</td>\n",
       "      <td>480.214286</td>\n",
       "      <td>NaN</td>\n",
       "    </tr>\n",
       "  </tbody>\n",
       "</table>\n",
       "</div>"
      ],
      "text/plain": [
       "               STATION  WEEK_OF_YEAR    BUSYNESS  PCT_CHANGE\n",
       "14296  LGA AIRPORT CTB            50  480.214286         NaN"
      ]
     },
     "execution_count": 882,
     "metadata": {},
     "output_type": "execute_result"
    }
   ],
   "source": [
    "# Why LGA AIRPORT CTB has Null value ?\n",
    "df_Usage.loc[df_Usage['STATION'] == 'LGA AIRPORT CTB', ] \n",
    "# This station data is only present for a week."
   ]
  },
  {
   "cell_type": "markdown",
   "metadata": {},
   "source": [
    "The station that has the seen the most growth is BEACH 90 ST.\n",
    "\n",
    "The station that has seen the least growth is AQUEDUCT-N CNDT."
   ]
  },
  {
   "cell_type": "markdown",
   "metadata": {},
   "source": [
    "** Question - 5: What dates in 2013 are the least busy? Could you identify days in 2013 on which stations were not operating at full capacity or closed entirely? **"
   ]
  },
  {
   "cell_type": "code",
   "execution_count": 907,
   "metadata": {
    "collapsed": false
   },
   "outputs": [
    {
     "data": {
      "text/plain": [
       "DATE\n",
       "12-25-13    125.694487\n",
       "11-28-13    156.846640\n",
       "02-09-13    157.059104\n",
       "Name: BUSYNESS, dtype: float64"
      ]
     },
     "execution_count": 907,
     "metadata": {},
     "output_type": "execute_result"
    }
   ],
   "source": [
    "# Group by Date and take mean of busyness per day\n",
    "final_2013_REG.groupby('DATE')['BUSYNESS'].mean().sort_values().head(3)"
   ]
  },
  {
   "cell_type": "markdown",
   "metadata": {},
   "source": [
    "The top 3 days that were least busy are:\n",
    "\n",
    "1) 25th Decemeber 2013 - Christmas Holiday <br/>\n",
    "2) 28th November 2013 - Thanksgiving Holiday <br/>\n",
    "3) 9th Feb 2013 - There was a major snow storm on this day. More details can be found here:\n",
    "https://mobile.nytimes.com/2013/02/10/nyregion/winter-storm-northeast.html?pagewanted=all&"
   ]
  },
  {
   "cell_type": "code",
   "execution_count": 898,
   "metadata": {
    "collapsed": false
   },
   "outputs": [
    {
     "name": "stderr",
     "output_type": "stream",
     "text": [
      "/Users/mohitravi/anaconda/lib/python2.7/site-packages/ipykernel/__main__.py:1: SettingWithCopyWarning: \n",
      "A value is trying to be set on a copy of a slice from a DataFrame.\n",
      "Try using .loc[row_indexer,col_indexer] = value instead\n",
      "\n",
      "See the caveats in the documentation: http://pandas.pydata.org/pandas-docs/stable/indexing.html#indexing-view-versus-copy\n",
      "  if __name__ == '__main__':\n"
     ]
    }
   ],
   "source": [
    "# Create a variable to calculate day of week from Date\n",
    "final_2013_REG['Day_of_Week'] = final_2013_REG['DATETIME'].dt.weekday_name"
   ]
  },
  {
   "cell_type": "code",
   "execution_count": 900,
   "metadata": {
    "collapsed": false
   },
   "outputs": [
    {
     "data": {
      "text/plain": [
       "Day_of_Week\n",
       "Sunday       187.371471\n",
       "Saturday     231.062063\n",
       "Monday       330.202750\n",
       "Tuesday      355.642474\n",
       "Thursday     359.815426\n",
       "Friday       360.823170\n",
       "Wednesday    361.394200\n",
       "Name: BUSYNESS, dtype: float64"
      ]
     },
     "execution_count": 900,
     "metadata": {},
     "output_type": "execute_result"
    }
   ],
   "source": [
    "# What is the average busyness per day of the week?\n",
    "final_2013_REG.groupby('Day_of_Week')['BUSYNESS'].mean().sort_values()"
   ]
  },
  {
   "cell_type": "markdown",
   "metadata": {},
   "source": [
    "We can see the Sunday and Saturday are days when stations are not operating on full capacity"
   ]
  },
  {
   "cell_type": "markdown",
   "metadata": {},
   "source": [
    "** Question - 6: Plot the daily row counts for data files in Q3 2013. **"
   ]
  },
  {
   "cell_type": "code",
   "execution_count": 940,
   "metadata": {
    "collapsed": true
   },
   "outputs": [],
   "source": [
    "# Take only Q3 Data\n",
    "dfQ3 = final_2013_REG[(final_2013_REG['DATE'] >= '07-01-13') & (final_2013_REG['DATE'] <= '09-30-13')]"
   ]
  },
  {
   "cell_type": "code",
   "execution_count": 947,
   "metadata": {
    "collapsed": false
   },
   "outputs": [],
   "source": [
    "# calculate row counts for each data\n",
    "Row_counts = dfQ3.sort_values('DATE').groupby('DATE')['DATE'].agg('count')"
   ]
  },
  {
   "cell_type": "code",
   "execution_count": 1121,
   "metadata": {
    "collapsed": false
   },
   "outputs": [
    {
     "data": {
      "text/plain": [
       "([<matplotlib.axis.XTick at 0x7f44e2c50>,\n",
       "  <matplotlib.axis.XTick at 0x7f534b490>,\n",
       "  <matplotlib.axis.XTick at 0x7f2bb5410>,\n",
       "  <matplotlib.axis.XTick at 0x7f2bc50d0>,\n",
       "  <matplotlib.axis.XTick at 0x7f2b0fd90>,\n",
       "  <matplotlib.axis.XTick at 0x7f2c0a550>,\n",
       "  <matplotlib.axis.XTick at 0x7f2c0aa50>],\n",
       " <a list of 7 Text xticklabel objects>)"
      ]
     },
     "execution_count": 1121,
     "metadata": {},
     "output_type": "execute_result"
    },
    {
     "data": {
      "image/png": "[encoded data removed]",
      "text/plain": [
       "<matplotlib.figure.Figure at 0x7f2b15250>"
      ]
     },
     "metadata": {},
     "output_type": "display_data"
    }
   ],
   "source": [
    "# Plot row counts Vs Date for 2013 Q3\n",
    "dfQ3.sort_values('DATE').groupby('DATE')['DATE'].agg('count').plot( color = 'b', marker = '.', markerfacecolor = 'r')\n",
    "plt.style.use('bmh')\n",
    "fig = plt.gcf()\n",
    "fig.set_size_inches(10, 4, forward=True)\n",
    "plt.xlabel('Date', fontsize = 15)\n",
    "plt.ylabel('Row Counts', fontsize = 15)\n",
    "plt.title('Row Counts Vs Date for 2013 Q3', fontsize = 15)\n",
    "plt.xticks(['07-01-13','07-15-13','08-01-13','08-15-13','09-01-13','09-15-13','09-30-13'], \n",
    "                                           ['July1','July15','Aug1','Aug15','Sep1','Sep15','Sep30'])"
   ]
  },
  {
   "cell_type": "code",
   "execution_count": 987,
   "metadata": {
    "collapsed": false
   },
   "outputs": [
    {
     "name": "stdout",
     "output_type": "stream",
     "text": [
      "[u'seaborn-darkgrid', u'seaborn-notebook', u'classic', u'seaborn-ticks', u'grayscale', u'bmh', u'seaborn-talk', u'dark_background', u'ggplot', u'fivethirtyeight', u'seaborn-colorblind', u'seaborn-deep', u'seaborn-whitegrid', u'seaborn-bright', u'seaborn-poster', u'seaborn-muted', u'seaborn-paper', u'seaborn-white', u'seaborn-pastel', u'seaborn-dark', u'seaborn-dark-palette']\n"
     ]
    }
   ],
   "source": [
    "#print(plt.style.available)"
   ]
  },
  {
   "cell_type": "code",
   "execution_count": 1054,
   "metadata": {
    "collapsed": false
   },
   "outputs": [
    {
     "data": {
      "text/plain": [
       "DATE\n",
       "2013-07-01    27583\n",
       "2013-07-02    27090\n",
       "2013-07-03    33332\n",
       "2013-07-04    26675\n",
       "2013-07-05    27341\n",
       "Name: DATE, dtype: int64"
      ]
     },
     "execution_count": 1054,
     "metadata": {},
     "output_type": "execute_result"
    }
   ],
   "source": [
    "# Looks like there is a spike in the beginning of July 2013. Let's examine it\n",
    "dfQ3.sort_values('DATE').groupby('DATE')['DATE'].agg('count').head(5)"
   ]
  },
  {
   "cell_type": "markdown",
   "metadata": {},
   "source": [
    "There is a slightly larger row count just a day before the 4th of July Holiday."
   ]
  },
  {
   "cell_type": "markdown",
   "metadata": {},
   "source": [
    "** Question - 7: Plot the daily total number of entries & exits across the system for Q3 2013 **"
   ]
  },
  {
   "cell_type": "code",
   "execution_count": 1089,
   "metadata": {
    "collapsed": false
   },
   "outputs": [],
   "source": [
    "# Group by total entries and exits on date\n",
    "dfQ3_Entries_Exits = dfQ3.sort_values('DATE').groupby('DATE')['DIFFERENCE_ENTRIES','DIFFERENCE_EXITS'].agg('sum')"
   ]
  },
  {
   "cell_type": "code",
   "execution_count": 1107,
   "metadata": {
    "collapsed": false
   },
   "outputs": [],
   "source": [
    "# Rename Columns\n",
    "dfQ3_Entries_Exits.rename(columns = {'DIFFERENCE_ENTRIES':'Total Entries','DIFFERENCE_EXITS':'Total Exits'}\n",
    "                                      ,inplace=True)"
   ]
  },
  {
   "cell_type": "code",
   "execution_count": 1256,
   "metadata": {
    "collapsed": false
   },
   "outputs": [
    {
     "data": {
      "text/plain": [
       "([<matplotlib.axis.YTick at 0x93af12f50>,\n",
       "  <matplotlib.axis.YTick at 0x93af12690>,\n",
       "  <matplotlib.axis.YTick at 0x8ef6fb6d0>,\n",
       "  <matplotlib.axis.YTick at 0x8ef6fb4d0>,\n",
       "  <matplotlib.axis.YTick at 0x8f0038a10>,\n",
       "  <matplotlib.axis.YTick at 0x8ef6e8ad0>,\n",
       "  <matplotlib.axis.YTick at 0x8ef6e8410>,\n",
       "  <matplotlib.axis.YTick at 0x8ef6e8710>,\n",
       "  <matplotlib.axis.YTick at 0x8ef41b1d0>,\n",
       "  <matplotlib.axis.YTick at 0x8ef6e8510>],\n",
       " <a list of 10 Text yticklabel objects>)"
      ]
     },
     "execution_count": 1256,
     "metadata": {},
     "output_type": "execute_result"
    },
    {
     "data": {
      "image/png": "[encoded data removed]",
      "text/plain": [
       "<matplotlib.figure.Figure at 0x96424d6d0>"
      ]
     },
     "metadata": {},
     "output_type": "display_data"
    }
   ],
   "source": [
    "# plotting\n",
    "plt.style.use('seaborn-talk')\n",
    "dfQ3_Entries_Exits.plot()\n",
    "fig = plt.gcf()\n",
    "fig.set_size_inches(10, 4, forward=True)\n",
    "plt.xlabel('Date')\n",
    "plt.ylabel('Total Number in Millions')\n",
    "plt.title('Daily Number of Entries and Exits for 2013 Q3')\n",
    "plt.xticks(['07-01-13','07-15-13','08-01-13','08-15-13','09-01-13','09-15-13','09-30-13'], \n",
    "                                          ['July1','July15','Aug1','Aug15','Sep1','Sep15','Sep30'])\n",
    "plt.yticks((range(1000000,6000000,500000)),\n",
    "           ['1M','1.5M','2M','2.5M','3M','3.5M','4M','4.5M','5M','5.5M','6M'])"
   ]
  },
  {
   "cell_type": "markdown",
   "metadata": {},
   "source": [
    "We can see a pattern here where the daily ridership drops down on weekends, but picks up again on weekdays."
   ]
  },
  {
   "cell_type": "markdown",
   "metadata": {},
   "source": [
    "** Question - 8: Plot the mean and standard deviation of the daily total number of entries & \n",
    "exits for each month in Q3 2013 for station 34 ST-PENN STA **"
   ]
  },
  {
   "cell_type": "code",
   "execution_count": 1125,
   "metadata": {
    "collapsed": false
   },
   "outputs": [
    {
     "name": "stderr",
     "output_type": "stream",
     "text": [
      "/Users/mohitravi/anaconda/lib/python2.7/site-packages/ipykernel/__main__.py:1: SettingWithCopyWarning: \n",
      "A value is trying to be set on a copy of a slice from a DataFrame.\n",
      "Try using .loc[row_indexer,col_indexer] = value instead\n",
      "\n",
      "See the caveats in the documentation: http://pandas.pydata.org/pandas-docs/stable/indexing.html#indexing-view-versus-copy\n",
      "  if __name__ == '__main__':\n"
     ]
    }
   ],
   "source": [
    "# Create a new column to get Month from Date\n",
    "dfQ3['MONTH'] = dfQ3['DATE'].dt.month"
   ]
  },
  {
   "cell_type": "code",
   "execution_count": 1186,
   "metadata": {
    "collapsed": true
   },
   "outputs": [],
   "source": [
    "# Select Only PENN Station from 2013 Q3\n",
    "df_PENN = dfQ3[dfQ3['STATION'] == '34 ST-PENN STA']\n",
    "df_PENN = df_PENN.sort_values('MONTH')"
   ]
  },
  {
   "cell_type": "code",
   "execution_count": 1188,
   "metadata": {
    "collapsed": false
   },
   "outputs": [],
   "source": [
    "# Get sum of daily entries and exits for PENN Station\n",
    "Daily_Counts_PENN = df_PENN.groupby(['MONTH','DATE'])['DIFFERENCE_ENTRIES','DIFFERENCE_EXITS'].agg('sum')\n",
    "Daily_Counts_PENN = Daily_Counts_PENN.reset_index()"
   ]
  },
  {
   "cell_type": "code",
   "execution_count": 1191,
   "metadata": {
    "collapsed": false
   },
   "outputs": [
    {
     "data": {
      "text/html": [
       "<div>\n",
       "<table border=\"1\" class=\"dataframe\">\n",
       "  <thead>\n",
       "    <tr>\n",
       "      <th></th>\n",
       "      <th colspan=\"2\" halign=\"left\">DIFFERENCE_ENTRIES</th>\n",
       "      <th colspan=\"2\" halign=\"left\">DIFFERENCE_EXITS</th>\n",
       "    </tr>\n",
       "    <tr>\n",
       "      <th></th>\n",
       "      <th>mean</th>\n",
       "      <th>std</th>\n",
       "      <th>mean</th>\n",
       "      <th>std</th>\n",
       "    </tr>\n",
       "    <tr>\n",
       "      <th>MONTH</th>\n",
       "      <th></th>\n",
       "      <th></th>\n",
       "      <th></th>\n",
       "      <th></th>\n",
       "    </tr>\n",
       "  </thead>\n",
       "  <tbody>\n",
       "    <tr>\n",
       "      <th>7</th>\n",
       "      <td>138022.354839</td>\n",
       "      <td>37087.066792</td>\n",
       "      <td>119607.967742</td>\n",
       "      <td>29702.377214</td>\n",
       "    </tr>\n",
       "    <tr>\n",
       "      <th>8</th>\n",
       "      <td>136282.193548</td>\n",
       "      <td>35918.308022</td>\n",
       "      <td>116488.225806</td>\n",
       "      <td>28255.928864</td>\n",
       "    </tr>\n",
       "    <tr>\n",
       "      <th>9</th>\n",
       "      <td>133977.133333</td>\n",
       "      <td>37913.972531</td>\n",
       "      <td>114923.933333</td>\n",
       "      <td>30366.084447</td>\n",
       "    </tr>\n",
       "  </tbody>\n",
       "</table>\n",
       "</div>"
      ],
      "text/plain": [
       "      DIFFERENCE_ENTRIES               DIFFERENCE_EXITS              \n",
       "                    mean           std             mean           std\n",
       "MONTH                                                                \n",
       "7          138022.354839  37087.066792    119607.967742  29702.377214\n",
       "8          136282.193548  35918.308022    116488.225806  28255.928864\n",
       "9          133977.133333  37913.972531    114923.933333  30366.084447"
      ]
     },
     "execution_count": 1191,
     "metadata": {},
     "output_type": "execute_result"
    }
   ],
   "source": [
    "# Get Mean and Std of daily entries and exits\n",
    "Daily_Counts_PENN.groupby('MONTH').agg(['mean','std'])"
   ]
  },
  {
   "cell_type": "code",
   "execution_count": 1218,
   "metadata": {
    "collapsed": false
   },
   "outputs": [],
   "source": [
    "# Clean dataframe for plotting\n",
    "Daily_Counts_PENN_Clean = Daily_Counts_PENN.groupby('MONTH').agg(['mean','std'])\n",
    "Daily_Counts_PENN_Clean.columns = ['Total_Entries_Mean','Total_Entries_Std','Total_Exits_Mean','Total_Exits_Std']\n",
    "Daily_Counts_PENN_Clean = Daily_Counts_PENN_Clean.reset_index()"
   ]
  },
  {
   "cell_type": "code",
   "execution_count": 1219,
   "metadata": {
    "collapsed": false
   },
   "outputs": [
    {
     "data": {
      "text/html": [
       "<div>\n",
       "<table border=\"1\" class=\"dataframe\">\n",
       "  <thead>\n",
       "    <tr style=\"text-align: right;\">\n",
       "      <th></th>\n",
       "      <th>MONTH</th>\n",
       "      <th>Total_Entries_Mean</th>\n",
       "      <th>Total_Entries_Std</th>\n",
       "      <th>Total_Exits_Mean</th>\n",
       "      <th>Total_Exits_Std</th>\n",
       "    </tr>\n",
       "  </thead>\n",
       "  <tbody>\n",
       "    <tr>\n",
       "      <th>0</th>\n",
       "      <td>7</td>\n",
       "      <td>138022.354839</td>\n",
       "      <td>37087.066792</td>\n",
       "      <td>119607.967742</td>\n",
       "      <td>29702.377214</td>\n",
       "    </tr>\n",
       "    <tr>\n",
       "      <th>1</th>\n",
       "      <td>8</td>\n",
       "      <td>136282.193548</td>\n",
       "      <td>35918.308022</td>\n",
       "      <td>116488.225806</td>\n",
       "      <td>28255.928864</td>\n",
       "    </tr>\n",
       "    <tr>\n",
       "      <th>2</th>\n",
       "      <td>9</td>\n",
       "      <td>133977.133333</td>\n",
       "      <td>37913.972531</td>\n",
       "      <td>114923.933333</td>\n",
       "      <td>30366.084447</td>\n",
       "    </tr>\n",
       "  </tbody>\n",
       "</table>\n",
       "</div>"
      ],
      "text/plain": [
       "   MONTH  Total_Entries_Mean  Total_Entries_Std  Total_Exits_Mean  \\\n",
       "0      7       138022.354839       37087.066792     119607.967742   \n",
       "1      8       136282.193548       35918.308022     116488.225806   \n",
       "2      9       133977.133333       37913.972531     114923.933333   \n",
       "\n",
       "   Total_Exits_Std  \n",
       "0     29702.377214  \n",
       "1     28255.928864  \n",
       "2     30366.084447  "
      ]
     },
     "execution_count": 1219,
     "metadata": {},
     "output_type": "execute_result"
    }
   ],
   "source": [
    "Daily_Counts_PENN_Clean"
   ]
  },
  {
   "cell_type": "code",
   "execution_count": 1289,
   "metadata": {
    "collapsed": false
   },
   "outputs": [
    {
     "data": {
      "image/png": "[encoded data removed]",
      "text/plain": [
       "<matplotlib.figure.Figure at 0x93a448350>"
      ]
     },
     "metadata": {},
     "output_type": "display_data"
    }
   ],
   "source": [
    "### Plotting for Entries\n",
    "plt.subplot(1,2,1)\n",
    "plt.style.use('seaborn-notebook')\n",
    "fig = plt.gcf()\n",
    "fig.set_size_inches(12, 4, forward=True)\n",
    "Month = [7,8,9]\n",
    "Mean_of_Entries = Daily_Counts_PENN_Clean['Total_Entries_Mean'] \n",
    "Std_of_Entries = Daily_Counts_PENN_Clean['Total_Entries_Std']/2\n",
    "\n",
    "(_, caps, _) = plt.errorbar(Month, Mean_of_Entries, yerr =  Std_of_Entries, fmt='o', markersize=8, capsize=20)\n",
    "\n",
    "for cap in caps:\n",
    "    cap.set_markeredgewidth(1)\n",
    "\n",
    "plt.xticks([6,7,8,9,10],['Jun','Jul','Aug','Sep','Oct'])\n",
    "plt.yticks(range(110000,160000,5000))\n",
    "plt.xlabel('Month')\n",
    "plt.ylabel('Total Number of Entries')\n",
    "plt.title('Mean and Std of Daily Entries for 34 ST Penn Station', fontsize = 10)\n",
    "#plt.show()\n",
    "\n",
    "### Plotting for Exits\n",
    "plt.subplot(1,2,2)\n",
    "Month = [7,8,9]\n",
    "Mean_of_Exits = Daily_Counts_PENN_Clean['Total_Exits_Mean'] \n",
    "Std_of_Exits = Daily_Counts_PENN_Clean['Total_Exits_Std']/2\n",
    "\n",
    "(_, caps, _) = plt.errorbar(Month, Mean_of_Exits, yerr =  Std_of_Exits, c = 'r',fmt='o', markersize=8, capsize=20)\n",
    "\n",
    "for cap in caps:\n",
    "    cap.set_markeredgewidth(1)\n",
    "\n",
    "plt.xticks([6,7,8,9,10],['Jun','Jul','Aug','Sep','Oct'])\n",
    "plt.yticks(range(95000,150000,5000))\n",
    "plt.xlabel('Month')\n",
    "plt.ylabel('Total Number of Exits')\n",
    "plt.title('Mean and Std of Daily Exits for 34 ST Penn Station', fontsize = 10)\n",
    "plt.tight_layout()\n",
    "plt.show()"
   ]
  },
  {
   "cell_type": "markdown",
   "metadata": {},
   "source": [
    "The dots at the center describe the mean, whereas the length of the lines specifies the standard deviation.\n",
    "For example, if we take Total Entries for July, the dot is at around 137,000 which is the mean. Whereas, the length of the line is approxiamtely 36,000 (156,000 - 120,000) which is the standard deviation value."
   ]
  },
  {
   "cell_type": "markdown",
   "metadata": {},
   "source": [
    "** Question - 9: Plot 25/50/75 percentile of the daily total number of entries & exits for each month in Q3 2013 for station 34 ST-PENN STA **"
   ]
  },
  {
   "cell_type": "code",
   "execution_count": 1296,
   "metadata": {
    "collapsed": false
   },
   "outputs": [
    {
     "data": {
      "text/html": [
       "<div>\n",
       "<table border=\"1\" class=\"dataframe\">\n",
       "  <thead>\n",
       "    <tr style=\"text-align: right;\">\n",
       "      <th></th>\n",
       "      <th>MONTH</th>\n",
       "      <th>DATE</th>\n",
       "      <th>DIFFERENCE_ENTRIES</th>\n",
       "      <th>DIFFERENCE_EXITS</th>\n",
       "    </tr>\n",
       "  </thead>\n",
       "  <tbody>\n",
       "    <tr>\n",
       "      <th>0</th>\n",
       "      <td>7</td>\n",
       "      <td>2013-07-01</td>\n",
       "      <td>170012.0</td>\n",
       "      <td>134056.0</td>\n",
       "    </tr>\n",
       "    <tr>\n",
       "      <th>1</th>\n",
       "      <td>7</td>\n",
       "      <td>2013-07-02</td>\n",
       "      <td>162772.0</td>\n",
       "      <td>138285.0</td>\n",
       "    </tr>\n",
       "    <tr>\n",
       "      <th>2</th>\n",
       "      <td>7</td>\n",
       "      <td>2013-07-03</td>\n",
       "      <td>162671.0</td>\n",
       "      <td>162604.0</td>\n",
       "    </tr>\n",
       "    <tr>\n",
       "      <th>3</th>\n",
       "      <td>7</td>\n",
       "      <td>2013-07-04</td>\n",
       "      <td>75395.0</td>\n",
       "      <td>85395.0</td>\n",
       "    </tr>\n",
       "    <tr>\n",
       "      <th>4</th>\n",
       "      <td>7</td>\n",
       "      <td>2013-07-05</td>\n",
       "      <td>137555.0</td>\n",
       "      <td>117782.0</td>\n",
       "    </tr>\n",
       "  </tbody>\n",
       "</table>\n",
       "</div>"
      ],
      "text/plain": [
       "   MONTH       DATE  DIFFERENCE_ENTRIES  DIFFERENCE_EXITS\n",
       "0      7 2013-07-01            170012.0          134056.0\n",
       "1      7 2013-07-02            162772.0          138285.0\n",
       "2      7 2013-07-03            162671.0          162604.0\n",
       "3      7 2013-07-04             75395.0           85395.0\n",
       "4      7 2013-07-05            137555.0          117782.0"
      ]
     },
     "execution_count": 1296,
     "metadata": {},
     "output_type": "execute_result"
    }
   ],
   "source": [
    "# A boxplot is perfect to visualize the 25th, 50th and 75th Percentile.\n",
    "# The daily entry and exit numbers for PENN Station was created before. Use the same dataframe.\n",
    "Daily_Counts_PENN.head()"
   ]
  },
  {
   "cell_type": "code",
   "execution_count": 1329,
   "metadata": {
    "collapsed": true
   },
   "outputs": [],
   "source": [
    "# Create data for Entries\n",
    "July_Entries = Daily_Counts_PENN.loc[Daily_Counts_PENN['MONTH'] == 7,['DIFFERENCE_ENTRIES']]\n",
    "Aug_Entries = Daily_Counts_PENN.loc[Daily_Counts_PENN['MONTH'] == 8,['DIFFERENCE_ENTRIES']]\n",
    "Sep_Entries = Daily_Counts_PENN.loc[Daily_Counts_PENN['MONTH'] == 9,['DIFFERENCE_ENTRIES']]\n",
    "\n",
    "data_to_plot_Entries = [July_Entries, Aug_Entries, Sep_Entries]\n",
    "\n",
    "# Create data for Exits\n",
    "July_Exits = Daily_Counts_PENN.loc[Daily_Counts_PENN['MONTH'] == 7,['DIFFERENCE_EXITS']]\n",
    "Aug_Exits = Daily_Counts_PENN.loc[Daily_Counts_PENN['MONTH'] == 8,['DIFFERENCE_EXITS']]\n",
    "Sep_Exits = Daily_Counts_PENN.loc[Daily_Counts_PENN['MONTH'] == 9,['DIFFERENCE_EXITS']]\n",
    "\n",
    "data_to_plot_Exits = [July_Exits, Aug_Exits, Sep_Exits]"
   ]
  },
  {
   "cell_type": "code",
   "execution_count": 1347,
   "metadata": {
    "collapsed": false
   },
   "outputs": [
    {
     "data": {
      "image/png": "[encoded data removed]",
      "text/plain": [
       "<matplotlib.figure.Figure at 0x9624c75d0>"
      ]
     },
     "metadata": {},
     "output_type": "display_data"
    }
   ],
   "source": [
    "####### Create boxplot for Entries\n",
    "plt.subplot(1,2,1)\n",
    "plt.style.use('fivethirtyeight')\n",
    "fig = plt.gcf()\n",
    "fig.set_size_inches(12, 4, forward=True)\n",
    "\n",
    "bp_Entry = plt.boxplot(data_to_plot_Entries)\n",
    "\n",
    "# change outline color\n",
    "for box in bp_Entry['boxes']:\n",
    "    box.set( color='k', linewidth=2)\n",
    "\n",
    "# Change color of whisker\n",
    "for whisker in bp_Entry['whiskers']:\n",
    "    whisker.set(color='#778899', linewidth=2)\n",
    "\n",
    "# change linewidth of the caps\n",
    "for cap in bp_Entry['caps']:\n",
    "    cap.set(color='k', linewidth=2)\n",
    "\n",
    "# change color and linewidth of the medians\n",
    "for median in bp_Entry['medians']:\n",
    "    median.set(color='r', linewidth=2)\n",
    "\n",
    "plt.xticks([1,2,3],['Jul','Aug','Sep'])\n",
    "plt.xlabel('Month')\n",
    "plt.ylabel('Total Number of Entries',fontsize = 10)\n",
    "plt.title('Boxplot of Daily Entries for 34 PENN Station in 2013 Q3', fontsize = 10)\n",
    "\n",
    "###### Create boxplot for Exits\n",
    "plt.subplot(1,2,2)\n",
    "bp_Exit = plt.boxplot(data_to_plot_Exits)\n",
    "\n",
    "# change outline color\n",
    "for box in bp_Exit['boxes']:\n",
    "    box.set( color='#4169E1', linewidth=2)\n",
    "\n",
    "# Change color of whisker\n",
    "for whisker in bp_Exit['whiskers']:\n",
    "    whisker.set(color='#778899', linewidth=2)\n",
    "\n",
    "# change linewidth of the caps\n",
    "for cap in bp_Exit['caps']:\n",
    "    cap.set(color='#4169E1', linewidth=2)\n",
    "\n",
    "# change color and linewidth of the medians\n",
    "for median in bp_Exit['medians']:\n",
    "    median.set(color='r', linewidth=2)\n",
    "\n",
    "plt.xticks([1,2,3],['Jul','Aug','Sep'])\n",
    "plt.xlabel('Month')\n",
    "plt.ylabel('Total Number of Exits', fontsize = 10)\n",
    "plt.title('Boxplot of Daily Exits for 34 PENN Station in 2013 Q3', fontsize = 10)\n",
    "plt.show()"
   ]
  },
  {
   "cell_type": "markdown",
   "metadata": {},
   "source": [
    "The red line indicates the median or the 50th percentile, whereas the lower edge and the upper edge of the boxes are the 25th and 75th percentile respectively."
   ]
  },
  {
   "cell_type": "markdown",
   "metadata": {},
   "source": [
    "** Question - 10: Plot the daily number of closed stations and number of stations that were not operating at full capacity in Q3 2013 **"
   ]
  },
  {
   "cell_type": "code",
   "execution_count": 1394,
   "metadata": {
    "collapsed": false
   },
   "outputs": [
    {
     "data": {
      "text/plain": [
       "STATION          DATE      \n",
       "FRESH POND ROAD  2013-09-22       0.000000\n",
       "ORCHARD BEACH    2013-07-01       0.000000\n",
       "238 ST           2013-09-08       0.000000\n",
       "AQUEDUCT TRACK   2013-07-16       0.000000\n",
       "BOYD-88 ST       2013-09-29       0.000000\n",
       "MORGAN AVE       2013-09-08       0.000000\n",
       "ORCHARD BEACH    2013-08-03       0.000000\n",
       "SENECA AVE       2013-09-22       0.000000\n",
       "191 ST           2013-08-18       0.000000\n",
       "WILSON AVE       2013-09-01       0.000000\n",
       "VAN ALSTON-21ST  2013-07-14       0.000000\n",
       "242 ST           2013-09-08       0.000000\n",
       "SENECA AVE       2013-08-25       0.000000\n",
       "ORCHARD BEACH    2013-08-22       0.000000\n",
       "                 2013-08-14       0.000000\n",
       "AQUEDUCT TRACK   2013-07-20       0.000000\n",
       "ORCHARD BEACH    2013-08-15       0.000000\n",
       "VAN ALSTON-21ST  2013-09-29       0.000000\n",
       "ORCHARD BEACH    2013-08-08       0.000000\n",
       "                 2013-08-29       0.000000\n",
       "VAN ALSTON-21ST  2013-08-04       0.000000\n",
       "ORCHARD BEACH    2013-07-02       0.000000\n",
       "FOREST AVE       2013-08-25       0.000000\n",
       "ORCHARD BEACH    2013-08-01       0.000000\n",
       "                 2013-07-29       0.000000\n",
       "                 2013-07-12       0.000000\n",
       "EUCLID AVE       2013-09-01       0.000000\n",
       "AQUEDUCT TRACK   2013-07-14       0.000000\n",
       "PATH WTC 2       2013-09-22       0.000000\n",
       "KNICKERBOCKER    2013-08-25       0.000000\n",
       "                                  ...     \n",
       "BEDFORD AVE      2013-08-18    1037.761905\n",
       "                 2013-09-19    1037.775000\n",
       "                 2013-07-11    1046.775000\n",
       "                 2013-07-13    1053.307692\n",
       "                 2013-08-04    1056.609756\n",
       "                 2013-07-18    1061.097561\n",
       "                 2013-09-27    1061.600000\n",
       "                 2013-07-20    1063.225000\n",
       "                 2013-07-26    1065.170732\n",
       "                 2013-07-12    1069.675000\n",
       "                 2013-09-22    1070.926829\n",
       "                 2013-08-16    1071.536585\n",
       "                 2013-09-20    1072.875000\n",
       "                 2013-08-10    1077.025000\n",
       "                 2013-07-21    1080.000000\n",
       "                 2013-08-17    1082.564103\n",
       "                 2013-09-11    1084.650000\n",
       "                 2013-07-14    1088.219512\n",
       "                 2013-09-13    1088.707317\n",
       "                 2013-09-14    1089.725000\n",
       "                 2013-07-25    1090.692308\n",
       "                 2013-09-28    1091.300000\n",
       "                 2013-09-21    1094.684211\n",
       "                 2013-08-11    1105.261905\n",
       "                 2013-08-03    1107.902439\n",
       "                 2013-07-27    1121.538462\n",
       "                 2013-09-06    1152.818182\n",
       "                 2013-09-07    1196.176471\n",
       "225 ST           2013-07-26    1702.000000\n",
       "                 2013-07-25    1847.333333\n",
       "Name: BUSYNESS, dtype: float64"
      ]
     },
     "execution_count": 1394,
     "metadata": {},
     "output_type": "execute_result"
    }
   ],
   "source": [
    "# Let's group by Station and Date and take mean of Busyness\n",
    "dfQ3.groupby(['STATION','DATE'])['BUSYNESS'].mean().sort_values()"
   ]
  },
  {
   "cell_type": "code",
   "execution_count": 1395,
   "metadata": {
    "collapsed": false
   },
   "outputs": [
    {
     "data": {
      "text/plain": [
       "count    35038.000000\n",
       "mean       285.278091\n",
       "std        165.421255\n",
       "min          0.000000\n",
       "25%        165.754167\n",
       "50%        258.736111\n",
       "75%        380.111111\n",
       "max       1847.333333\n",
       "Name: BUSYNESS, dtype: float64"
      ]
     },
     "execution_count": 1395,
     "metadata": {},
     "output_type": "execute_result"
    }
   ],
   "source": [
    "# We need to determine a cut-off point for average busyness to determine Closed Stations and Stations operating under \n",
    "# lower capacity. \n",
    "# Summary Stats can help in this regard\n",
    "dfQ3.groupby(['STATION','DATE'])['BUSYNESS'].mean().describe()"
   ]
  },
  {
   "cell_type": "markdown",
   "metadata": {},
   "source": [
    "The average busyness is around 285, the maximum value is around 1800 and the lowest value is 0. From this we can assume that the stations that are closed have values below 5 and stations operating under lower capacity have values below 50 and greater than 5."
   ]
  },
  {
   "cell_type": "code",
   "execution_count": 1406,
   "metadata": {
    "collapsed": true
   },
   "outputs": [],
   "source": [
    "# Set cut-off points and filter data\n",
    "\n",
    "dfQ3_Station_Busyness = dfQ3.groupby(['STATION','DATE'])['BUSYNESS'].mean().reset_index()\n",
    "df_Closed = dfQ3_Station_Busyness[dfQ3_Station_Busyness['BUSYNESS'] < 5]\n",
    "df_Low_Capacity = dfQ3_Station_Busyness[(dfQ3_Station_Busyness['BUSYNESS'] >= 5) & \n",
    "                                        (dfQ3_Station_Busyness['BUSYNESS'] < 50)]"
   ]
  },
  {
   "cell_type": "code",
   "execution_count": 1427,
   "metadata": {
    "collapsed": false
   },
   "outputs": [
    {
     "data": {
      "text/plain": [
       "DATE\n",
       "2013-07-01    2\n",
       "2013-07-02    2\n",
       "2013-07-03    2\n",
       "2013-07-04    1\n",
       "2013-07-05    2\n",
       "2013-07-06    3\n",
       "2013-07-07    8\n",
       "2013-07-08    2\n",
       "2013-07-09    2\n",
       "2013-07-10    2\n",
       "Name: STATION, dtype: int64"
      ]
     },
     "execution_count": 1427,
     "metadata": {},
     "output_type": "execute_result"
    }
   ],
   "source": [
    "# For each day, how many stations are closed?\n",
    "df_Closed.groupby('DATE')['STATION'].agg('count').head(10)"
   ]
  },
  {
   "cell_type": "code",
   "execution_count": 1428,
   "metadata": {
    "collapsed": false
   },
   "outputs": [
    {
     "data": {
      "text/plain": [
       "DATE\n",
       "2013-07-01     7\n",
       "2013-07-02     6\n",
       "2013-07-03     9\n",
       "2013-07-04    17\n",
       "2013-07-05     7\n",
       "2013-07-06    20\n",
       "2013-07-07    22\n",
       "2013-07-08     5\n",
       "2013-07-09     5\n",
       "2013-07-10     6\n",
       "Name: STATION, dtype: int64"
      ]
     },
     "execution_count": 1428,
     "metadata": {},
     "output_type": "execute_result"
    }
   ],
   "source": [
    "# For each day, how many stations are operating under lower capacity?\n",
    "df_Low_Capacity.groupby('DATE')['STATION'].agg('count').head(10)"
   ]
  },
  {
   "cell_type": "code",
   "execution_count": 1513,
   "metadata": {
    "collapsed": false
   },
   "outputs": [
    {
     "data": {
      "image/png": "[encoded data removed]",
      "text/plain": [
       "<matplotlib.figure.Figure at 0x96317ec10>"
      ]
     },
     "metadata": {},
     "output_type": "display_data"
    }
   ],
   "source": [
    "## Plotting\n",
    "Closed_Count = df_Closed.groupby('DATE')['STATION'].agg('count')\n",
    "Low_Capacity_Count = df_Low_Capacity.groupby('DATE')['STATION'].agg('count')\n",
    "\n",
    "Closed_Count.plot(linewidth= 1, label = 'Closed Stations')\n",
    "Low_Capacity_Count.plot(linewidth= 1, label = 'Stations operating under lower capacity')\n",
    "plt.style.use('seaborn-talk')\n",
    "fig = plt.gcf()\n",
    "fig.set_size_inches(10, 4, forward=True)\n",
    "plt.xlabel('Date')\n",
    "plt.ylabel('Total Stations')\n",
    "plt.title('Daily Number of Closed and Lower Operating Stations in 2013 Q3', fontsize = 12)\n",
    "plt.xticks(['07-01-13','07-15-13','08-01-13','08-15-13','09-01-13','09-15-13','09-30-13'], \n",
    "                                          ['July1','July15','Aug1','Aug15','Sep1','Sep15','Sep30'], fontsize=10)\n",
    "plt.yticks(fontsize = 10)\n",
    "plt.legend(loc='best', fontsize = 10)\n",
    "\n",
    "plt.show()"
   ]
  }
 ],
 "metadata": {
  "anaconda-cloud": {},
  "kernelspec": {
   "display_name": "Python [default]",
   "language": "python",
   "name": "python2"
  },
  "language_info": {
   "codemirror_mode": {
    "name": "ipython",
    "version": 2
   },
   "file_extension": ".py",
   "mimetype": "text/x-python",
   "name": "python",
   "nbconvert_exporter": "python",
   "pygments_lexer": "ipython2",
   "version": "2.7.12"
  }
 },
 "nbformat": 4,
 "nbformat_minor": 1
}
